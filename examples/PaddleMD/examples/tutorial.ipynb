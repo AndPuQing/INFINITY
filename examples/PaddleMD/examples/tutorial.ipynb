{
 "cells": [
  {
   "cell_type": "markdown",
   "metadata": {},
   "source": [
    "# TorchMD API tutorial"
   ]
  },
  {
   "cell_type": "markdown",
   "metadata": {},
   "source": [
    "## System setup"
   ]
  },
  {
   "cell_type": "markdown",
   "metadata": {},
   "source": [
    "We use the `moleculekit` library for reading the input topologies and starting coordinates"
   ]
  },
  {
   "cell_type": "code",
   "execution_count": 2,
   "metadata": {},
   "outputs": [],
   "source": [
    "from moleculekit.molecule import Molecule\n",
    "import os\n",
    "\n",
    "testdir = \"../test-data/prod_alanine_dipeptide_amber/\"\n",
    "mol = Molecule(os.path.join(testdir, \"structure.prmtop\"))  # Reading the system topology\n",
    "mol.read(os.path.join(testdir, \"input.coor\"))  # Reading the initial simulation coordinates\n",
    "mol.read(os.path.join(testdir, \"input.xsc\"))  # Reading the box dimensions"
   ]
  },
  {
   "cell_type": "markdown",
   "metadata": {},
   "source": [
    "Next we will load a forcefield file and use the above topology to extract the relevant parameters which will be used for the simulation"
   ]
  },
  {
   "cell_type": "code",
   "execution_count": 5,
   "metadata": {},
   "outputs": [
    {
     "ename": "ValueError",
     "evalue": "attempted relative import beyond top-level package",
     "output_type": "error",
     "traceback": [
      "\u001b[0;31m---------------------------------------------------------------------------\u001b[0m",
      "\u001b[0;31mValueError\u001b[0m                                Traceback (most recent call last)",
      "\u001b[0;32m<ipython-input-5-d9b35cb83358>\u001b[0m in \u001b[0;36m<module>\u001b[0;34m\u001b[0m\n\u001b[0;32m----> 1\u001b[0;31m \u001b[0;32mfrom\u001b[0m \u001b[0;34m.\u001b[0m\u001b[0;34m.\u001b[0m\u001b[0mpaddlemd\u001b[0m\u001b[0;34m.\u001b[0m\u001b[0mforcefields\u001b[0m\u001b[0;34m.\u001b[0m\u001b[0mforcefield\u001b[0m \u001b[0;32mimport\u001b[0m \u001b[0mForceField\u001b[0m\u001b[0;34m\u001b[0m\u001b[0;34m\u001b[0m\u001b[0m\n\u001b[0m\u001b[1;32m      2\u001b[0m \u001b[0;32mfrom\u001b[0m \u001b[0mpaddlemd\u001b[0m\u001b[0;34m.\u001b[0m\u001b[0mparameters\u001b[0m \u001b[0;32mimport\u001b[0m \u001b[0mParameters\u001b[0m\u001b[0;34m\u001b[0m\u001b[0;34m\u001b[0m\u001b[0m\n\u001b[1;32m      3\u001b[0m \u001b[0;32mimport\u001b[0m \u001b[0mtorch\u001b[0m\u001b[0;34m\u001b[0m\u001b[0;34m\u001b[0m\u001b[0m\n\u001b[1;32m      4\u001b[0m \u001b[0;34m\u001b[0m\u001b[0m\n\u001b[1;32m      5\u001b[0m \u001b[0mprecision\u001b[0m \u001b[0;34m=\u001b[0m \u001b[0mtorch\u001b[0m\u001b[0;34m.\u001b[0m\u001b[0mfloat\u001b[0m\u001b[0;34m\u001b[0m\u001b[0;34m\u001b[0m\u001b[0m\n",
      "\u001b[0;31mValueError\u001b[0m: attempted relative import beyond top-level package"
     ]
    }
   ],
   "source": [
    "from ..paddlemd.forcefields.forcefield import ForceField\n",
    "from paddlemd.parameters import Parameters\n",
    "import torch\n",
    "\n",
    "precision = torch.float\n",
    "device = \"cuda:0\"\n",
    "\n",
    "ff = ForceField.create(mol, os.path.join(testdir, \"structure.prmtop\"))\n",
    "parameters = Parameters(ff, mol, precision=precision, device=device)"
   ]
  },
  {
   "cell_type": "markdown",
   "metadata": {},
   "source": [
    "Now we can create a `System` object which will contain the state of the system during the simulation, including:\n",
    "1. The current atom coordinates\n",
    "1. The current box size\n",
    "1. The current atom velocities\n",
    "1. The current atom forces"
   ]
  },
  {
   "cell_type": "code",
   "execution_count": 3,
   "metadata": {},
   "outputs": [],
   "source": [
    "from paddlemd.integrator import maxwell_boltzmann\n",
    "from paddlemd.systems import System\n",
    "\n",
    "system = System(mol.numAtoms, nreplicas=1, precision=precision, device=device)\n",
    "system.set_positions(mol.coords)\n",
    "system.set_box(mol.box)\n",
    "system.set_velocities(maxwell_boltzmann(parameters.masses, T=300, replicas=1))"
   ]
  },
  {
   "cell_type": "markdown",
   "metadata": {},
   "source": [
    "Lastly we will create a `Force` object which will be used to evaluate the potential on a given `System` state"
   ]
  },
  {
   "cell_type": "code",
   "execution_count": 11,
   "metadata": {},
   "outputs": [
    {
     "name": "stdout",
     "output_type": "stream",
     "text": [
      "[{'dihedrals': 10.262107849121094, 'external': 0.0}]\n",
      "tensor([[[-1.1108e-01,  1.6149e-02, -1.0404e+00],\n",
      "         [ 1.8305e-01, -1.0476e-03,  1.6788e+00],\n",
      "         [ 5.5393e-03,  5.7595e-02, -2.9841e-02],\n",
      "         ...,\n",
      "         [ 0.0000e+00,  0.0000e+00,  0.0000e+00],\n",
      "         [ 0.0000e+00,  0.0000e+00,  0.0000e+00],\n",
      "         [ 0.0000e+00,  0.0000e+00,  0.0000e+00]]], device='cuda:0')\n"
     ]
    }
   ],
   "source": [
    "from paddlemd.forces import Forces\n",
    "bonded = [\"bonds\", \"angles\", \"dihedrals\", \"impropers\", \"1-4\"]\n",
    "bonded = [\"dihedrals\"]\n",
    "# forces = Forces(parameters, cutoff=9, rfa=True, switch_dist=7.5)\n",
    "forces = Forces(parameters, cutoff=9, rfa=True, switch_dist=7.5, terms=bonded)\n",
    "# Evaluate current energy and forces. Forces are modified in-place\n",
    "Epot = forces.compute(system.pos, system.box, system.forces, returnDetails=True)\n",
    "\n",
    "print(Epot)\n",
    "print(system.forces)"
   ]
  },
  {
   "cell_type": "markdown",
   "metadata": {},
   "source": [
    "## Dynamics"
   ]
  },
  {
   "cell_type": "markdown",
   "metadata": {},
   "source": [
    "For performing the dynamics we will create an `Integrator` object for integrating the time steps of the simulation as well as a `Wrapper` object for wrapping the system coordinates within the periodic cell"
   ]
  },
  {
   "cell_type": "code",
   "execution_count": 12,
   "metadata": {},
   "outputs": [],
   "source": [
    "from paddlemd.integrator import Integrator\n",
    "from paddlemd.wrapper import Wrapper\n",
    "\n",
    "langevin_temperature = 300  # K\n",
    "langevin_gamma = 0.1\n",
    "timestep = 1  # fs\n",
    "\n",
    "integrator = Integrator(system, forces, timestep, device, gamma=langevin_gamma, T=langevin_temperature)\n",
    "wrapper = Wrapper(mol.numAtoms, mol.bonds if len(mol.bonds) else None, device)"
   ]
  },
  {
   "cell_type": "code",
   "execution_count": 16,
   "metadata": {},
   "outputs": [
    {
     "name": "stdout",
     "output_type": "stream",
     "text": [
      "Iter  Epot            fmax    \n",
      "   0    20.109737    2.481930\n",
      "   1    16.807449    1.724286\n",
      "   2    22.018057    11.455074\n",
      "   3    16.203218    26.515063\n",
      "   4    16.007851    6.448757\n",
      "   5    23.911276    44.388491\n",
      "   6    15.678329    8.338514\n",
      "   7    13.330523    119.376837\n",
      "   8    23.211462    6.625708\n",
      "   9    19.027088    8.426726\n",
      "  10    17.093735    9.266688\n",
      "  11    12.646109    95.903555\n",
      "  12    11.705179    61.297083\n",
      "  13    16.962624    6.941132\n",
      "  14    11.705179    61.297083\n",
      "  15    21.706810    10.844314\n",
      "  16    18.531084    26.332549\n",
      "  17    11.141059    45.311407\n",
      "  18    21.985168    76.741523\n",
      "  19    10.931394    43.353227\n",
      "  20    11.286078    81.720612\n",
      "  21    10.281906    17.560959\n",
      "  22    12.046317    135.483850\n",
      "  23    10.213875    3.632023\n",
      "  24    10.059407    1.820187\n",
      "  25    9.990677    2.355876\n",
      "  26    18.351007    75.369637\n",
      "  27    9.988084    2.364855\n",
      "  28    9.964596    2.464586\n",
      "  29    18.355877    72.311387\n",
      "  30    9.964068    2.466532\n",
      "  31    9.959239    2.490173\n",
      "  32    9.884647    2.981275\n",
      "  33    17.937250    77.931130\n",
      "  34    9.874395    2.960970\n",
      "  35    18.056286    76.075041\n",
      "  36    9.870141    2.953419\n",
      "  37    18.305159    71.844249\n",
      "  38    9.870058    2.951691\n",
      "  39    18.320946    71.591187\n",
      "  40    9.870024    2.952702\n",
      "  41    18.331409    71.421810\n",
      "  42    9.870010    2.953732\n",
      "  43    18.338408    71.312377\n",
      "  44    9.869999    2.952409\n",
      "  45    9.869997    2.952081\n",
      "  46    18.345154    71.203889\n",
      "  47    9.869997    2.954182\n",
      "  48    18.347477    71.166579\n",
      "  49    9.869995    2.953055\n",
      "  50    9.869995    2.953055\n",
      "  51    18.349771    71.134219\n",
      "  52    9.869995    2.953056\n",
      "  53    27.663033    1.616899\n",
      "  54    28.855497    1.668635\n",
      "  55    9.918945    16.079112\n",
      "  56    9.880053    2.844961\n",
      "  57    9.876095    2.971955\n",
      "  58    9.860590    3.609202\n",
      "  59    9.806295    9.087949\n",
      "  60    20.579168    84.134435\n",
      "  61    9.803709    9.216348\n",
      "  62    21.100906    342.351576\n",
      "  63    9.802713    9.261443\n",
      "  64    9.799738    9.417471\n",
      "  65    9.709806    50.093882\n",
      "  66    19.895405    57.072453\n",
      "  67    9.706757    50.512842\n",
      "  68    9.703829    50.994068\n",
      "  69    19.852884    176.691845\n",
      "  70    9.702986    51.050653\n",
      "  71    9.702244    51.173653\n",
      "  72    26.477234    12425.833952\n",
      "  73    9.702230    51.174707\n",
      "  74    9.702176    51.149780\n",
      "  75    9.644144    34.611486\n",
      "  76    9.644127    34.580721\n",
      "  77    9.644136    34.620642\n",
      "  78    9.644127    34.580721\n",
      "  79    19.940929    36.021994\n",
      "  80    17.863747    571.606851\n",
      "  81    9.644127    34.580721\n",
      "  82    9.644127    34.580721\n",
      "  83    9.644127    34.580721\n",
      "  84    9.644127    34.580721\n",
      "  85    9.644127    34.580721\n",
      "  86    9.644127    34.580721\n",
      "  87    9.644127    34.580721\n",
      "  88    9.644127    34.580721\n",
      "  89    9.644127    34.580721\n",
      "  90    9.644127    34.580721\n",
      "  91    9.644127    34.580721\n",
      "  92    9.644127    34.580721\n",
      "  93    9.644127    34.580721\n",
      "  94    9.644127    34.580721\n",
      "  95    9.644127    34.580721\n",
      "  96    9.644127    34.580721\n"
     ]
    }
   ],
   "source": [
    "from paddlemd.minimizers import minimize_bfgs\n",
    "\n",
    "minimize_bfgs(system, forces, steps=500)  # Minimize the system"
   ]
  },
  {
   "cell_type": "markdown",
   "metadata": {},
   "source": [
    "Create a CSV file logger for the simulation which keeps track of the energies and temperature."
   ]
  },
  {
   "cell_type": "code",
   "execution_count": 17,
   "metadata": {},
   "outputs": [
    {
     "name": "stdout",
     "output_type": "stream",
     "text": [
      "Writing logs to  logs/monitor.csv\n"
     ]
    }
   ],
   "source": [
    "from paddlemd.utils import LogWriter\n",
    "\n",
    "logger = LogWriter(path=\"logs/\", keys=('iter','ns','epot','ekin','etot','T'), name='monitor.csv')"
   ]
  },
  {
   "cell_type": "markdown",
   "metadata": {},
   "source": [
    "Now we can finally perform the full dynamics"
   ]
  },
  {
   "cell_type": "code",
   "execution_count": 18,
   "metadata": {},
   "outputs": [
    {
     "name": "stderr",
     "output_type": "stream",
     "text": [
      "100%|██████████| 5000/5000 [08:38<00:00,  4.95it/s]\n"
     ]
    }
   ],
   "source": [
    "from tqdm import tqdm \n",
    "import numpy as np\n",
    "\n",
    "FS2NS = 1E-6 # Femtosecond to nanosecond conversion\n",
    "\n",
    "steps = 50000 # 1000\n",
    "output_period = 10\n",
    "save_period = 100\n",
    "traj = []\n",
    "\n",
    "trajectoryout = \"mytrajectory.npy\"\n",
    "\n",
    "iterator = tqdm(range(1, int(steps / output_period) + 1))\n",
    "Epot = forces.compute(system.pos, system.box, system.forces)\n",
    "for i in iterator:\n",
    "    Ekin, Epot, T = integrator.step(niter=output_period)\n",
    "    wrapper.wrap(system.pos, system.box)\n",
    "    currpos = system.pos.detach().cpu().numpy().copy()\n",
    "    traj.append(currpos)\n",
    "    \n",
    "    if (i*output_period) % save_period  == 0:\n",
    "        np.save(trajectoryout, np.stack(traj, axis=2))\n",
    "\n",
    "    logger.write_row({'iter':i*output_period,'ns':FS2NS*i*output_period*timestep,'epot':Epot,'ekin':Ekin,'etot':Epot+Ekin,'T':T})"
   ]
  },
  {
   "cell_type": "code",
   "execution_count": null,
   "metadata": {},
   "outputs": [],
   "source": []
  }
 ],
 "metadata": {
  "kernelspec": {
   "display_name": "Python 3",
   "language": "python",
   "name": "python3"
  },
  "language_info": {
   "codemirror_mode": {
    "name": "ipython",
    "version": 3
   },
   "file_extension": ".py",
   "mimetype": "text/x-python",
   "name": "python",
   "nbconvert_exporter": "python",
   "pygments_lexer": "ipython3",
   "version": "3.6.9"
  }
 },
 "nbformat": 4,
 "nbformat_minor": 4
}
