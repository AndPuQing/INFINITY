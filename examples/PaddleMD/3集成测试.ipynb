{
 "cells": [
  {
   "cell_type": "markdown",
   "metadata": {},
   "source": [
    "# PaddleMD测试\n",
    "要在命令行测试，首先需要安装相关的库\n",
    "然后使用develop方式安装PaddleMD\n",
    "最后执行命令\n",
    "\n",
    "## 在notebook中安装moleculekit\n",
    "然后在命令行安装openmm\n",
    "`conda install openmm -c conda-forge -i https://mirror.baidu.com/pypi/simple`\n",
    "\n",
    "6.4日测试，发现需要使用`conda install openmm -c conda-forge`\n",
    "且安装的时候会安装cuda\n",
    "\n",
    "## 测试记录：\n",
    "发现测试水分子的时候，很多值都没有变动。是不是没有反向传播的原因？\n",
    "\n",
    "综合测试的时候，Energy diff: 4.206e-08 Force diff 1.697e+00\n",
    "能量差值很小，而力场差别很大！ \n",
    "比如2watersperiodic： electrostatic Energy diff: 3.203e-06 Force diff: 1.695e+00\n",
    "静电力场差值很大！ \n",
    "\n",
    "在重新改写了index_add算子后，力场差别缩小到可以接受的范围内。\n",
    "\n",
    "水分子、prod alanine dipeptide前丙氨酸二和Trypsin胰蛋白酶等论文提到的三个测试可以运行通过\n",
    "\n",
    "\n",
    "\n"
   ]
  },
  {
   "cell_type": "markdown",
   "metadata": {},
   "source": [
    "# 先安装需要的库\n",
    "openmm需要在命令行使用conda安装，moleculekit可以使用conda安装，也可以pip安装特定版本：\n",
    "```\n",
    "conda install openmm -c conda-forge\n",
    "conda install moleculekit -c acellera\n",
    "\n",
    "!pip install moleculekit==1.0.8 -i https://mirror.baidu.com/pypi/simple\n",
    "```\n"
   ]
  },
  {
   "cell_type": "code",
   "execution_count": 5,
   "metadata": {},
   "outputs": [],
   "source": [
    "# !pip install moleculekit==1.0.8 -i https://mirror.baidu.com/pypi/simple"
   ]
  },
  {
   "cell_type": "markdown",
   "metadata": {},
   "source": [
    "## 安装paddlemd开发模式"
   ]
  },
  {
   "cell_type": "code",
   "execution_count": 1,
   "metadata": {},
   "outputs": [
    {
     "name": "stdout",
     "output_type": "stream",
     "text": [
      "fatal: No names found, cannot describe anything.\n",
      "Could not get version tag. Defaulting to version 0\n",
      "running develop\n",
      "running egg_info\n",
      "writing paddlemd.egg-info/PKG-INFO\n",
      "writing dependency_links to paddlemd.egg-info/dependency_links.txt\n",
      "writing requirements to paddlemd.egg-info/requires.txt\n",
      "writing top-level names to paddlemd.egg-info/top_level.txt\n",
      "reading manifest file 'paddlemd.egg-info/SOURCES.txt'\n",
      "writing manifest file 'paddlemd.egg-info/SOURCES.txt'\n",
      "running build_ext\n",
      "Creating /opt/conda/lib/python3.6/site-packages/paddlemd.egg-link (link to .)\n",
      "Adding paddlemd 0 to easy-install.pth file\n",
      "\n",
      "Installed /code/6paper/PaddleMD\n",
      "Processing dependencies for paddlemd==0\n",
      "error: pandas 0.24.2 is installed but pandas>=1.1.2 is required by {'moleculekit'}\n"
     ]
    }
   ],
   "source": [
    "!python setup.py develop"
   ]
  },
  {
   "cell_type": "markdown",
   "metadata": {},
   "source": [
    "## 开始执行集合测试程序\n",
    "### 解决报错,把requires_grad改成stop_gradient\n",
    "\n",
    "### 效果尚可\n",
    "与openmm的差值为\n",
    "```\n",
    "Running test: test-data/thrombin-ligand-amber/\n",
    "  angle Energy diff: -5.433e-05 Force diff: 1.108e-03\n",
    "  bond Energy diff: 1.861e-04 Force diff: 4.413e-03\n",
    "  dihedral Energy diff: 3.932e-05 Force diff: 6.289e-04\n",
    "  lennardjones Energy diff: 1.829e-04 Force diff: 5.169e-04\n",
    "```\n",
    "gpu显存占用 4874MiB / 15109MiB"
   ]
  },
  {
   "cell_type": "code",
   "execution_count": 4,
   "metadata": {},
   "outputs": [
    {
     "name": "stdout",
     "output_type": "stream",
     "text": [
      "Warning: importing 'simtk.openmm' is deprecated.  Import 'openmm' instead.\n",
      "/opt/conda/lib/python3.6/site-packages/setuptools/depends.py:2: DeprecationWarning: the imp module is deprecated in favour of importlib; see the module's documentation for alternative uses\n",
      "  import imp\n",
      "test_paddlemd (__main__._TestPaddleMD) ... \n",
      "Running test: test-data/4dihedrals/\n",
      "/opt/conda/lib/python3.6/importlib/_bootstrap.py:219: RuntimeWarning: numpy.ufunc size changed, may indicate binary incompatibility. Expected 192 from C header, got 216 from PyObject\n",
      "  return f(*args, **kwds)\n",
      "/opt/conda/lib/python3.6/importlib/_bootstrap.py:219: RuntimeWarning: numpy.ufunc size changed, may indicate binary incompatibility. Expected 192 from C header, got 216 from PyObject\n",
      "  return f(*args, **kwds)\n",
      "/opt/conda/lib/python3.6/importlib/_bootstrap.py:219: RuntimeWarning: numpy.ufunc size changed, may indicate binary incompatibility. Expected 192 from C header, got 216 from PyObject\n",
      "  return f(*args, **kwds)\n",
      "/opt/conda/lib/python3.6/importlib/_bootstrap.py:219: RuntimeWarning: numpy.ufunc size changed, may indicate binary incompatibility. Expected 216, got 192\n",
      "  return f(*args, **kwds)\n",
      "/opt/conda/lib/python3.6/importlib/_bootstrap.py:219: ImportWarning: can't resolve package from __spec__ or __package__, falling back on __name__ and __path__\n",
      "  return f(*args, **kwds)\n",
      "/opt/conda/lib/python3.6/importlib/_bootstrap.py:219: RuntimeWarning: numpy.ufunc size changed, may indicate binary incompatibility. Expected 216, got 192\n",
      "  return f(*args, **kwds)\n",
      "/opt/conda/lib/python3.6/importlib/_bootstrap.py:219: ImportWarning: can't resolve package from __spec__ or __package__, falling back on __name__ and __path__\n",
      "  return f(*args, **kwds)\n",
      "W0606 11:17:57.201010  6104 gpu_context.cc:278] Please NOTE: device: 0, GPU Compute Capability: 7.5, Driver API Version: 11.0, Runtime API Version: 10.2\n",
      "W0606 11:17:57.205463  6104 gpu_context.cc:306] device: 0, cuDNN Version: 7.6.\n",
      "/opt/conda/lib/python3.6/site-packages/paddle/fluid/dygraph/math_op_patch.py:278: UserWarning: The dtype of left and right variables are not the same, left dtype is paddle.float32, but right dtype is paddle.bool, the right dtype will convert to paddle.float32\n",
      "  format(lhs_dtype, rhs_dtype, lhs_dtype))\n",
      "\n",
      "Running test: test-data/thrombin-ligand-amber/\n",
      "^C\n",
      "Traceback (most recent call last):\n",
      "  File \"tests/test_paddlemd.py\", line 553, in <module>\n"
     ]
    }
   ],
   "source": [
    "!python tests/test_paddlemd.py"
   ]
  },
  {
   "cell_type": "code",
   "execution_count": 2,
   "metadata": {},
   "outputs": [
    {
     "name": "stderr",
     "output_type": "stream",
     "text": [
      "2022-06-04 22:36:08,935 - moleculekit.readers - INFO - Attempting PDB query for 3ptb\n",
      "2022-06-04 22:36:12,998 - moleculekit.rcsb - WARNING - Failed to connect to URL https://files.rcsb.org/download/3ptb.pdb with error <urlopen error [Errno -3] Temporary failure in name resolution>. Sleeping 5s and retrying.\n"
     ]
    }
   ],
   "source": [
    "from moleculekit.molecule import Molecule\n",
    "\n",
    "mol = Molecule('3ptb')\n",
    "mol.view()"
   ]
  },
  {
   "cell_type": "markdown",
   "metadata": {},
   "source": [
    "# 在命令行测试水分子\n",
    "\n",
    "执行命令为`./bin/paddlemd --conf tests/water/50000water_conf.yaml `\n",
    "\n",
    "torch下的速度7分36秒 飞桨下steps: 10大约23分钟\n",
    "现在1000step大约2分28秒,这样算下来50000step需要125分钟，大约2小时。 目前torchmd比paddlemd快16倍。"
   ]
  },
  {
   "cell_type": "code",
   "execution_count": 18,
   "metadata": {},
   "outputs": [
    {
     "name": "stdout",
     "output_type": "stream",
     "text": [
      "/opt/conda/lib/python3.6/site-packages/setuptools/depends.py:2: DeprecationWarning: the imp module is deprecated in favour of importlib; see the module's documentation for alternative uses\n",
      "  import imp\n",
      "Force terms:  ['LJ', 'Bonds', 'Angles', 'Electrostatics']\n",
      "W0605 23:04:10.737171 27221 gpu_context.cc:278] Please NOTE: device: 0, GPU Compute Capability: 7.5, Driver API Version: 11.0, Runtime API Version: 10.2\n",
      "W0605 23:04:10.742141 27221 gpu_context.cc:306] device: 0, cuDNN Version: 7.6.\n",
      "/opt/conda/lib/python3.6/site-packages/paddle/fluid/dygraph/math_op_patch.py:278: UserWarning: The dtype of left and right variables are not the same, left dtype is paddle.float32, but right dtype is paddle.bool, the right dtype will convert to paddle.float32\n",
      "  format(lhs_dtype, rhs_dtype, lhs_dtype))\n",
      "Writing logs to  mywaterrun/monitor_0.csv\n",
      "Writing logs to  mywaterrun/monitor_1.csv\n",
      "100%|███████████████████████████████████████████| 20/20 [02:25<00:00,  7.27s/it]\n"
     ]
    }
   ],
   "source": [
    "# !./bin/paddlemd --conf tests/water/50000water_conf.yaml # 10step 快速测试\n",
    "!./bin/paddlemd --conf tests/water/water_conf.yaml"
   ]
  },
  {
   "cell_type": "markdown",
   "metadata": {},
   "source": [
    "# 在命令行测试prod alanine dipeptide前丙氨酸二肽\n",
    "能跑下去，但是估计时间比较多。大约需要3.5小时。\n",
    "跑出来的数值跟torchmd接近。"
   ]
  },
  {
   "cell_type": "code",
   "execution_count": null,
   "metadata": {},
   "outputs": [],
   "source": [
    "!./bin/paddlemd --conf tests/prod_alanine_dipeptide_amber/conf.yaml"
   ]
  },
  {
   "cell_type": "code",
   "execution_count": null,
   "metadata": {},
   "outputs": [],
   "source": [
    "## 测试结果\n",
    "飞桨  405   -1362.860203    3.397800\n",
    "torch 405   -1362.809237    10.436576\n",
    "1013   -1385.292748    2.422747"
   ]
  },
  {
   "cell_type": "markdown",
   "metadata": {},
   "source": [
    "# 在命令行测试Trypsin胰蛋白酶\n",
    "大约需要2.5个小时"
   ]
  },
  {
   "cell_type": "code",
   "execution_count": 6,
   "metadata": {},
   "outputs": [
    {
     "name": "stdout",
     "output_type": "stream",
     "text": [
      "/opt/conda/lib/python3.6/site-packages/setuptools/depends.py:2: DeprecationWarning: the imp module is deprecated in favour of importlib; see the module's documentation for alternative uses\n",
      "  import imp\n",
      "Force terms:  ['LJ', 'Bonds', 'Angles', 'Electrostatics', 'Repulsioncg']\n",
      "2022-06-06 11:22:00,443 - root - WARNING - Warning: importing 'simtk.openmm' is deprecated.  Import 'openmm' instead.\n",
      "W0606 11:22:03.709703  6302 gpu_context.cc:278] Please NOTE: device: 0, GPU Compute Capability: 7.5, Driver API Version: 11.0, Runtime API Version: 10.2\n",
      "W0606 11:22:03.715160  6302 gpu_context.cc:306] device: 0, cuDNN Version: 7.6.\n",
      "/opt/conda/lib/python3.6/site-packages/paddle/fluid/dygraph/math_op_patch.py:278: UserWarning: The dtype of left and right variables are not the same, left dtype is paddle.float32, but right dtype is paddle.bool, the right dtype will convert to paddle.float32\n",
      "  format(lhs_dtype, rhs_dtype, lhs_dtype))\n",
      "Writing logs to  mytrypsin/monitor_0.csv\n",
      "  7%|██▋                                     | 33/500 [08:10<2:57:03, 22.75s/it]^C\n",
      "  7%|██▋                                     | 33/500 [08:20<1:58:09, 15.18s/it]\n",
      "Traceback (most recent call last):\n",
      "  File \"/code/6paper/PaddleMD/bin/../paddlemd/run.py\", line 156, in <module>\n",
      "    dynamics(args, mol, system, forces)\n",
      "  File \"/code/6paper/PaddleMD/bin/../paddlemd/run.py\", line 139, in dynamics\n",
      "    Ekin, Epot, T = integrator.step(niter=args.output_period)\n",
      "  File \"/code/6paper/PaddleMD/paddlemd/integrator.py\", line 69, in step\n",
      "    pot = self.forces.compute(s.pos, s.box, s.forces)\n",
      "  File \"/code/6paper/PaddleMD/paddlemd/forces.py\", line 374, in compute\n",
      "    forces[i] = paddleindex_add(forces[i], 0, ava_idx[:, 0], -forcevec)\n",
      "  File \"/code/6paper/PaddleMD/paddlemd/forces.py\", line 61, in paddleindex_add\n",
      "    return paddleput_alone_axis(x, index, source, dim)\n",
      "  File \"/code/6paper/PaddleMD/paddlemd/forces.py\", line 44, in paddleput_alone_axis\n",
      "    value[:lenarr], axis, reduce=reduce)\n",
      "KeyboardInterrupt\n"
     ]
    }
   ],
   "source": [
    "!./bin/paddlemd --conf tests/trypsin/conf.yaml"
   ]
  },
  {
   "cell_type": "markdown",
   "metadata": {},
   "source": [
    "# 调试\n",
    "## 执行测试之后卡住\n",
    "```\n",
    "W0503 16:17:49.902498  3748 device_context.cc:465] device: 0, cuDNN Version: 7.6.\n",
    "/opt/conda/lib/python3.6/site-packages/paddle/fluid/dygraph/math_op_patch.py:253: UserWarning: The dtype of left and right variables are not the same, left dtype is paddle.float32, but right dtype is paddle.bool, the right dtype will convert to paddle.float32\n",
    "  format(lhs_dtype, rhs_dtype, lhs_dtype))\n",
    "\n",
    "Running test: test-data/thrombin-ligand-amber/\n",
    "```\n",
    "## 卡住之后，手工中断，报错信息：\n",
    "```\n",
    "Running test: test-data/thrombin-ligand-amber/\n",
    "^C\n",
    "Traceback (most recent call last):\n",
    "  File \"tests/test_paddlemd.py\", line 551, in <module>\n",
    "    unittest.main(verbosity=2)\n",
    "  File \"/opt/conda/lib/python3.6/unittest/main.py\", line 95, in __init__\n",
    "    self.runTests()\n",
    "  File \"/opt/conda/lib/python3.6/unittest/main.py\", line 256, in runTests\n",
    "    self.result = testRunner.run(self.test)\n",
    "  File \"/opt/conda/lib/python3.6/unittest/runner.py\", line 176, in run\n",
    "    test(result)\n",
    "  File \"/opt/conda/lib/python3.6/unittest/suite.py\", line 84, in __call__\n",
    "    return self.run(*args, **kwds)\n",
    "  File \"/opt/conda/lib/python3.6/unittest/suite.py\", line 122, in run\n",
    "    test(result)\n",
    "  File \"/opt/conda/lib/python3.6/unittest/suite.py\", line 84, in __call__\n",
    "    return self.run(*args, **kwds)\n",
    "  File \"/opt/conda/lib/python3.6/unittest/suite.py\", line 122, in run\n",
    "    test(result)\n",
    "  File \"/opt/conda/lib/python3.6/unittest/case.py\", line 653, in __call__\n",
    "    return self.run(*args, **kwds)\n",
    "  File \"/opt/conda/lib/python3.6/unittest/case.py\", line 605, in run\n",
    "    testMethod()\n",
    "  File \"tests/test_paddlemd.py\", line 408, in test_paddlemd\n",
    "    system.pos, system.box, system.forces, returnDetails=True\n",
    "  File \"/code/6paper/PaddleMD/paddlemd/forces.py\", line 342, in compute\n",
    "    forces[i] = paddleindex_add(forces[i], 0, ava_idx[:, 0], -forcevec)\n",
    "  File \"/code/6paper/PaddleMD/paddlemd/forces.py\", line 38, in paddleindex_add\n",
    "    x[index[i]] += source[i]\n",
    "  File \"/opt/conda/lib/python3.6/site-packages/paddle/fluid/dygraph/varbase_patch_methods.py\", line 778, in __setitem__\n",
    "    return _setitem_impl_(self, item, value)\n",
    "  File \"/opt/conda/lib/python3.6/site-packages/paddle/fluid/variable_index.py\", line 703, in _setitem_impl_\n",
    "    inplace_map={\"Input\": \"Out\"})\n",
    "  File \"/opt/conda/lib/python3.6/site-packages/paddle/fluid/framework.py\", line 3604, in append_op\n",
    "    inplace_map)\n",
    "  File \"/opt/conda/lib/python3.6/site-packages/paddle/fluid/dygraph/tracer.py\", line 309, in trace_op\n",
    "    not stop_gradient, inplace_map if inplace_map else {})\n",
    "KeyboardInterrupt\n",
    "```\n",
    "\n",
    "## 测试水分子报错\n",
    "```\n",
    "  File \"/code/6paper/PaddleMD/bin/../paddlemd/run.py\", line 76, in setup\n",
    "    paddle.manual_seed(args.seed)\n",
    "AttributeError: module 'paddle' has no attribute 'manual_seed'\n",
    "root@f7d7b1900cfff011ec0b6ec0bb60bea6856f-task1-0:/code/6paper/PaddleMD# \n",
    "```\n",
    "问题是我看原代码，76句那句是注释掉的啊！出了灵异事件了 。\n",
    "晕，发现是改错文件了。并没有修改paddlemd那个目录的run文件，修改之。\n",
    "\n",
    "##  [operator < elementwise_add > error]\n",
    "```\n",
    "  File \"/code/6paper/PaddleMD/paddlemd/wrapper.py\", line 19, in paddleindexjia\n",
    "    tmp[xindex] += y\n",
    "  File \"/opt/conda/lib/python3.6/site-packages/paddle/fluid/dygraph/math_op_patch.py\", line 299, in __impl__\n",
    "    return math_op(self, other_var, 'axis', axis)\n",
    "ValueError: (InvalidArgument) Broadcast dimension mismatch. Operands could not be broadcast together with the shape of X = [3, 3] and the shape of Y = [2, 3]. Received [3] in X is not equal to [2] in Y at i:0.\n",
    "  [Hint: Expected x_dims_array[i] == y_dims_array[i] || x_dims_array[i] <= 1 || y_dims_array[i] <= 1 == true, but received x_dims_array[i] == y_dims_array[i] || x_dims_array[i] <= 1 || y_dims_array[i] <= 1:0 != true:1.] (at /paddle/paddle/phi/kernels/funcs/common_shape.h:84)\n",
    "  [operator < elementwise_add > error]\n",
    "```\n",
    "这样应该是paddleeye的锅。在下面处理paddleeye\n",
    "将所有的eye相关语句，修改成这样\n",
    "```\n",
    "# box = box[:, torch.eye(3).bool()]\n",
    "box = box*paddle.eye(3)\n",
    "box = box.sum(1)\n",
    "\n",
    "同时发现在forces.py文件中，有这样一句：\n",
    "sbox = box[i][torch.eye(3).bool()]\n",
    "相关的飞桨可以写为：\n",
    "sbox = box[i][paddle.eye(3).astype(paddle.bool)]\n",
    "\n",
    "```\n",
    "脑子有点乱了，系统里面用到的eye特别多。。。\n",
    "\n",
    "6.3日，回头看这里的报错，明显是paddleindexjia的报错啊！ 因为这个函数当时写的时候维度是写死的，所以碰到新情况shpae就对不齐了。\n",
    "解决的方法是使用numpy语句解决，加上tensor的来回变换，一共4句：\n",
    "```\n",
    "#                 pos[:, group] -= offset.unsqueeze(1)\n",
    "#                 pos = paddleindexjia(pos, -offset, group)\n",
    "                pos = pos.numpy()\n",
    "                offset = offset.unsqueeze(1).numpy()\n",
    "                pos[:, group] -= offset # 尝试使用numpy来处理 相关语句共4句\n",
    "                pos = paddle.to_tensor(pos)\n",
    "\n",
    "#             pos[:, self.nongrouped] -= offset.unsqueeze(1)\n",
    "#             pos = paddleindexjia(pos, -offset, self.nongrouped)\n",
    "            pos = pos.numpy()\n",
    "            offset = offset.unsqueeze(1).numpy()\n",
    "            pos[:, self.nongrouped] -= offset # 尝试使用numpy来处理 相关语句共4句\n",
    "            pos = paddle.to_tensor(pos)\n",
    "```\n",
    "两个地方需要修改，并且第二部分应该用参数self.nongrouped，以前误写成group，这次一并改回。\n",
    "## 专门修改eye相关函数\n",
    "比如这样的，我认为可以提速：\n",
    "```\n",
    "        for r in range(box.shape[0]):\n",
    "            self.box[r][torch.eye(3).bool()] = torch.tensor(\n",
    "                box[r], dtype=self.box.dtype, device=self.box.device\n",
    "            )\n",
    "```\n"
   ]
  },
  {
   "cell_type": "markdown",
   "metadata": {},
   "source": [
    "## 处理eye相关语句\n",
    "torch相关代码为`box = box[:, torch.eye(3).bool()] `\n",
    "\n",
    "## 修改paddleindex_add\n",
    "重写了paddleindex_add之后，测试水分子时报错：\n",
    "```\n",
    "[291, 3] indices.shape:[291] value.shape:[291, 3]\n",
    "==arr.shape:[291, 3] indices.shape:[291] value.shape:[291, 3]\n",
    "==arr.shape:[291, 3] indices.shape:[97] value.shape:[97, 3]\n",
    "==arr.shape:[291, 3] indices.shape:[97] value.shape:[97, 3]\n",
    "==arr.shape:[291, 3] indices.shape:[97] value.shape:[97, 3]\n",
    "==arr.shape:[291, 3] indices.shape:[15168] value.shape:[15168, 3]\n",
    "```\n",
    "不明白为什么会出来15168 这么大的值 ...\n",
    " ==arr.shape:[291, 3] indices.shape:[15168] value.shape:[15168, 3]\n",
    " \n",
    " 还有这么大的：Running test: test-data/thrombin-ligand-amber/\n",
    "==force line 276 explicit_forces:True electrostatics len of idx14[:, 0]:12320\n",
    "\n",
    "index_add里面加入截断。 要去看看torch怎么处理的，估计torch是按照顺序覆盖的。\n",
    "\n",
    "最终参考torch.index_add的实现，对paddleindex_add进行了相应修改！不截断，全部数据按照索引加上去！ \n",
    "\n",
    "\n",
    "\n",
    "## 测试报错\n",
    "```\n",
    "======================================================================\n",
    "ERROR: test_paddlemd (__main__._TestPaddleMD) (system='test-data/4dihedrals/')\n",
    "----------------------------------------------------------------------\n",
    "Traceback (most recent call last):\n",
    "  File \"tests/test_paddlemd.py\", line 408, in test_paddlemd\n",
    "    system.pos, system.box, system.forces, returnDetails=True\n",
    "  File \"/code/6paper/PaddleMD/paddlemd/forces.py\", line 282, in compute\n",
    "    spos, self.par.impropers[:, 0:2], sbox\n",
    "  File \"/code/6paper/PaddleMD/paddlemd/forces.py\", line 421, in calculate_distances\n",
    "    dist = paddle.norm(direction_vec, axis=1)\n",
    "  File \"/opt/conda/lib/python3.6/site-packages/paddle/tensor/linalg.py\", line 436, in norm\n",
    "    name=name)\n",
    "  File \"/opt/conda/lib/python3.6/site-packages/paddle/tensor/linalg.py\", line 308, in vector_norm\n",
    "    'keepdim', keepdim, 'asvector', asvector)\n",
    "ValueError: (InvalidArgument) Attr(axis) value should be in range [-R, R-1], R is the rank of Input(X). But received axis: 1, R: 1. Current Input(X)'s shape is=[3].\n",
    "  [Hint: Expected axis < x_rank, but received axis:1 >= x_rank:1.] (at /paddle/paddle/phi/infermeta/unary.cc:1488)\n",
    "  [operator < p_norm > error]\n",
    "```\n",
    " value should be in range [-R, R-1], R is the rank of Input(X). But received axis: 1, R: 1. Current Input(X)'s shape is=[3].\n",
    "\n",
    "还是函数里面没弄好导致的，全部逻辑理顺，终于顺利测试完成了。（调哪个函数？ 为什么6.5日又出现了这个报错？ ）\n",
    "\n",
    " \n",
    " ## 测试的时候报错没有openmm\n",
    " 发现pip安装的openmm不行，要用canda安装\n",
    "需要使用`conda install openmm -c conda-forge`\n",
    "且安装的时候会安装cuda\n",
    "\n",
    "## 在测试时，发现很多时候没有用到paddle.norm部分，用的地方报错\n",
    "```python\n",
    "Traceback (most recent call last):\n",
    "  File \"tests/test_paddlemd.py\", line 408, in test_paddlemd\n",
    "    system.pos, system.box, system.forces, returnDetails=True\n",
    "  File \"/code/6paper/PaddleMD/paddlemd/forces.py\", line 201, in compute\n",
    "    spos, self.par.dihedrals[:, 0:2], sbox\n",
    "  File \"/code/6paper/PaddleMD/paddlemd/forces.py\", line 422, in calculate_distances\n",
    "    dist = paddle.norm(direction_vec, axis=1)\n",
    "  File \"/opt/conda/lib/python3.6/site-packages/paddle/tensor/linalg.py\", line 436, in norm\n",
    "    name=name)\n",
    "  File \"/opt/conda/lib/python3.6/site-packages/paddle/tensor/linalg.py\", line 308, in vector_norm\n",
    "    'keepdim', keepdim, 'asvector', asvector)\n",
    "ValueError: (InvalidArgument) Attr(axis) value should be in range [-R, R-1], R is the rank of Input(X). But received axis: 1, R: 1. Current Input(X)'s shape is=[3].\n",
    "  [Hint: Expected axis < x_rank, but received axis:1 >= x_rank:1.] (at /paddle/paddle/phi/infermeta/unary.cc:1488)\n",
    "  [operator < p_norm > error]\n",
    "重点检查：  \n",
    "def calculate_distances(atom_pos, atom_idx, box):\n",
    "#     print(f\"==calculate_distances {atom_pos, atom_idx, box}\")\n",
    "#     print(f\"==calculate_distances atom_pos, atom_idx, box:{atom_pos.shape, atom_idx.shape, box.shape}\")\n",
    "\n",
    "    direction_vec = wrap_dist(atom_pos[atom_idx[:, 0]] - atom_pos[atom_idx[:, 1]], box)\n",
    "    print(f\"==line 423 of forces direction_vec.shape:{direction_vec.shape}\")\n",
    "    dist = paddle.norm(direction_vec, axis=1)\n",
    "    direction_unitvec = direction_vec / dist.unsqueeze(1)\n",
    "    return dist, direction_unitvec, direction_vec\n",
    "```\n",
    "\n",
    "## 集中全力处理test_replicas, Attr(axis) value should be in range [-R, R-1]\n",
    "```python\n",
    "test_replicas (__main__._TestPaddleMD) ... ERROR\n",
    "\n",
    "======================================================================\n",
    "ERROR: test_paddlemd (__main__._TestPaddleMD) (system='test-data/4dihedrals/')\n",
    "----------------------------------------------------------------------\n",
    "Traceback (most recent call last):\n",
    "  File \"tests/test_paddlemd.py\", line 408, in test_paddlemd\n",
    "    system.pos, system.box, system.forces, returnDetails=True\n",
    "  File \"/code/6paper/PaddleMD/paddlemd/forces.py\", line 284, in compute\n",
    "    _, _, r12 = calculate_distances(\n",
    "  File \"/code/6paper/PaddleMD/paddlemd/forces.py\", line 424, in calculate_distances\n",
    "    #     print(f\"==line 423 of forces direction_vec.shape:{direction_vec.shape}\")\n",
    "  File \"/opt/conda/lib/python3.6/site-packages/paddle/tensor/linalg.py\", line 436, in norm\n",
    "    name=name)\n",
    "  File \"/opt/conda/lib/python3.6/site-packages/paddle/tensor/linalg.py\", line 308, in vector_norm\n",
    "    'keepdim', keepdim, 'asvector', asvector)\n",
    "ValueError: (InvalidArgument) Attr(axis) value should be in range [-R, R-1], R is the rank of Input(X). But received axis: 1, R: 1. Current Input(X)'s shape is=[3].\n",
    "  [Hint: Expected axis < x_rank, but received axis:1 >= x_rank:1.] (at /paddle/paddle/phi/infermeta/unary.cc:1488)\n",
    "  [operator < p_norm > error]\n",
    "```\n",
    "## 先集中精力处理'Tensor' object has no attribute 'requires_grad'\n",
    "```\n",
    "======================================================================\n",
    "ERROR: test_replicas (__main__._TestPaddleMD)\n",
    "----------------------------------------------------------------------\n",
    "Traceback (most recent call last):\n",
    "  File \"tests/test_paddlemd.py\", line 517, in test_replicas\n",
    "    explicit_forces=False,\n",
    "  File \"/code/6paper/PaddleMD/paddlemd/forces.py\", line 386, in compute\n",
    "    if pot[i][ene].requires_grad:\n",
    "AttributeError: 'Tensor' object has no attribute 'requires_grad'\n",
    "\n",
    "----------------------------------------------------------------------\n",
    "Ran 2 tests in 423.041s\n",
    "\n",
    "FAILED (errors=7)\n",
    "```\n",
    "将requires_grad改成stop_gradient ，当然飞桨的语法是xx.stop_gradient=False\n",
    "问题解决之后，出现新的报错\n",
    "##   (PermissionDenied) Cannot set target var auto_1600864_@GRAD twice\n",
    "说实话，这是我印象里头一次碰到这样的报错\n",
    "```\n",
    "======================================================================\n",
    "ERROR: test_replicas (__main__._TestPaddleMD)\n",
    "----------------------------------------------------------------------\n",
    "Traceback (most recent call last):\n",
    "  File \"tests/test_paddlemd.py\", line 517, in test_replicas\n",
    "    explicit_forces=False,\n",
    "  File \"/code/6paper/PaddleMD/paddlemd/forces.py\", line 390, in compute\n",
    "    enesum, pos, only_inputs=True, retain_graph=True\n",
    "  File \"</opt/conda/lib/python3.6/site-packages/decorator.py:decorator-gen-49>\", line 2, in grad\n",
    "  File \"/opt/conda/lib/python3.6/site-packages/paddle/fluid/wrapped_decorator.py\", line 25, in __impl__\n",
    "    return wrapped_func(*args, **kwargs)\n",
    "  File \"/opt/conda/lib/python3.6/site-packages/paddle/fluid/framework.py\", line 434, in __impl__\n",
    "    return func(*args, **kwargs)\n",
    "  File \"/opt/conda/lib/python3.6/site-packages/paddle/fluid/dygraph/base.py\", line 663, in grad\n",
    "    retain_graph, allow_unused, only_inputs)\n",
    "RuntimeError: (PermissionDenied) Cannot set target var auto_1600864_@GRAD twice\n",
    "  [Hint: Expected ready_var.var == nullptr, but received ready_var.var != nullptr.] (at /paddle/paddle/fluid/imperative/partial_grad_engine.cc:508)\n",
    "```\n",
    "经了解，paddle.grad可能有些问题，不过我认为大概率还是自己的问题。 \n",
    "这个报错，是说不能设置变量两次？ \n",
    "\n",
    "## 测试前丙氨酸二肽报错\n",
    "```python\n",
    "  File \"/code/6paper/PaddleMD/bin/../paddlemd/run.py\", line 154, in <module>\n",
    "    mol, system, forces = setup(args)\n",
    "  File \"/code/6paper/PaddleMD/bin/../paddlemd/run.py\", line 113, in setup\n",
    "    forces = Forces(parameters, terms=args.forceterms, external=external, cutoff=args.cutoff, rfa=args.rfa, switch_dist=args.switch_dist, exclusions=args.exclusions)\n",
    "  File \"/code/6paper/PaddleMD/paddlemd/forces.py\", line 103, in __init__\n",
    "    'Set force terms or leave empty brackets [].\\nAvailable options: \"bonds\", \"angles\", \"dihedrals\", \"impropers\", \"1-4\", \"electrostatics\", \"lj\", \"repulsion\", \"repulsioncg\".'\n",
    "RuntimeError: Set force terms or leave empty brackets [].\n",
    "Available options: \"bonds\", \"angles\", \"dihedrals\", \"impropers\", \"1-4\", \"electrostatics\", \"lj\", \"repulsion\", \"repulsioncg\".\n",
    "```    \n",
    "把forces.py文件中修改成：\n",
    "```\n",
    "if terms is None: # 为了不报错，我也是拼了\n",
    "            terms = self.terms\n",
    "```\n",
    "终于可以跑下去了。"
   ]
  },
  {
   "cell_type": "code",
   "execution_count": 17,
   "metadata": {},
   "outputs": [
    {
     "name": "stdout",
     "output_type": "stream",
     "text": [
      "tensor([[-0.3567,  0.9546, -0.2460],\n",
      "        [ 0.1134,  0.3881, -0.4628]], dtype=torch.float64)\n",
      "[-0.35666844  0.95460963 -0.24597028]\n",
      "[[-0.35666844  0.95460963 -0.24597028]\n",
      " [ 0.11340753  0.38805964 -0.46283856]]\n"
     ]
    }
   ],
   "source": [
    "import numpy as np\n",
    "a = np.random.randn(2,3,3)\n",
    "\n",
    "# print(a)\n",
    "import torch\n",
    "ta = torch.tensor(a)\n",
    "# print(ta)\n",
    "ta = ta[:, torch.eye(3).bool()]\n",
    "print(ta)\n",
    "box = a\n",
    "i = 0\n",
    "sbox = box[i][torch.eye(3).bool()]\n",
    "print(sbox)\n",
    "sbox = box[:, torch.eye(3).bool()]\n",
    "print(sbox)"
   ]
  },
  {
   "cell_type": "code",
   "execution_count": 10,
   "metadata": {},
   "outputs": [
    {
     "name": "stdout",
     "output_type": "stream",
     "text": [
      "Tensor(shape=[2, 3], dtype=float64, place=Place(gpu:0), stop_gradient=True,\n",
      "       [[ 0.78369857, -1.16356505,  0.76762212],\n",
      "        [ 1.44171350, -0.14697054,  0.07857292]])\n",
      "Tensor(shape=[3], dtype=float64, place=Place(gpu:0), stop_gradient=True,\n",
      "       [ 0.78369857, -1.16356505,  0.76762212])\n"
     ]
    }
   ],
   "source": [
    "import paddle\n",
    "box = paddle.to_tensor(a)\n",
    "box = box*paddle.eye(3)\n",
    "box = box.sum(1)\n",
    "print(box)\n",
    "box = paddle.to_tensor(a)\n",
    "sbox = box[i][paddle.eye(3).astype(paddle.bool)]\n",
    "print(sbox)\n",
    "# box[:][paddle.eye(3).astype(paddle.bool)]\n",
    "# print(box)"
   ]
  },
  {
   "cell_type": "code",
   "execution_count": 11,
   "metadata": {},
   "outputs": [
    {
     "name": "stdout",
     "output_type": "stream",
     "text": [
      "Tensor(shape=[2, 3], dtype=float64, place=Place(gpu:0), stop_gradient=True,\n",
      "       [[ 0.78369857, -1.16356505,  0.76762212],\n",
      "        [ 1.44171350, -0.14697054,  0.07857292]])\n"
     ]
    }
   ],
   "source": [
    "# box = box[:, torch.eye(3).bool()]\n",
    "box = box*paddle.eye(3)\n",
    "box = box.sum(1)\n",
    "print(box)"
   ]
  },
  {
   "cell_type": "code",
   "execution_count": 7,
   "metadata": {},
   "outputs": [
    {
     "ename": "ValueError",
     "evalue": "(InvalidArgument) Currently, Tensor.__indices__() only allows indexing by Integers, Slices, Ellipsis, None, tuples of these types and list of Bool and Integers, but received Tensor in 1th slice item (at /paddle/paddle/fluid/pybind/slice_utils.h:279)\n",
     "output_type": "error",
     "traceback": [
      "\u001b[0;31m---------------------------------------------------------------------------\u001b[0m",
      "\u001b[0;31mValueError\u001b[0m                                Traceback (most recent call last)",
      "\u001b[0;32m<ipython-input-7-44eef7e961a0>\u001b[0m in \u001b[0;36m<module>\u001b[0;34m\u001b[0m\n\u001b[0;32m----> 1\u001b[0;31m \u001b[0msbox\u001b[0m \u001b[0;34m=\u001b[0m \u001b[0mbox\u001b[0m\u001b[0;34m[\u001b[0m\u001b[0mi\u001b[0m\u001b[0;34m]\u001b[0m\u001b[0;34m[\u001b[0m\u001b[0mtorch\u001b[0m\u001b[0;34m.\u001b[0m\u001b[0meye\u001b[0m\u001b[0;34m(\u001b[0m\u001b[0;36m3\u001b[0m\u001b[0;34m)\u001b[0m\u001b[0;34m.\u001b[0m\u001b[0mbool\u001b[0m\u001b[0;34m(\u001b[0m\u001b[0;34m)\u001b[0m\u001b[0;34m]\u001b[0m\u001b[0;34m\u001b[0m\u001b[0;34m\u001b[0m\u001b[0m\n\u001b[0m",
      "\u001b[0;32m/opt/conda/lib/python3.6/site-packages/paddle/fluid/dygraph/varbase_patch_methods.py\u001b[0m in \u001b[0;36m__getitem__\u001b[0;34m(self, item)\u001b[0m\n\u001b[1;32m    737\u001b[0m         \u001b[0;32melse\u001b[0m\u001b[0;34m:\u001b[0m\u001b[0;34m\u001b[0m\u001b[0;34m\u001b[0m\u001b[0m\n\u001b[1;32m    738\u001b[0m             \u001b[0;31m# 2. Call c++ func getitem_index_not_tensor to speedup.\u001b[0m\u001b[0;34m\u001b[0m\u001b[0;34m\u001b[0m\u001b[0;34m\u001b[0m\u001b[0m\n\u001b[0;32m--> 739\u001b[0;31m             \u001b[0;32mreturn\u001b[0m \u001b[0mself\u001b[0m\u001b[0;34m.\u001b[0m\u001b[0m_getitem_index_not_tensor\u001b[0m\u001b[0;34m(\u001b[0m\u001b[0mitem\u001b[0m\u001b[0;34m)\u001b[0m\u001b[0;34m\u001b[0m\u001b[0;34m\u001b[0m\u001b[0m\n\u001b[0m\u001b[1;32m    740\u001b[0m \u001b[0;34m\u001b[0m\u001b[0m\n\u001b[1;32m    741\u001b[0m     \u001b[0;32mdef\u001b[0m \u001b[0m__setitem__\u001b[0m\u001b[0;34m(\u001b[0m\u001b[0mself\u001b[0m\u001b[0;34m,\u001b[0m \u001b[0mitem\u001b[0m\u001b[0;34m,\u001b[0m \u001b[0mvalue\u001b[0m\u001b[0;34m)\u001b[0m\u001b[0;34m:\u001b[0m\u001b[0;34m\u001b[0m\u001b[0;34m\u001b[0m\u001b[0m\n",
      "\u001b[0;31mValueError\u001b[0m: (InvalidArgument) Currently, Tensor.__indices__() only allows indexing by Integers, Slices, Ellipsis, None, tuples of these types and list of Bool and Integers, but received Tensor in 1th slice item (at /paddle/paddle/fluid/pybind/slice_utils.h:279)\n"
     ]
    }
   ],
   "source": [
    "sbox = box[i][torch.eye(3).bool()]"
   ]
  },
  {
   "cell_type": "code",
   "execution_count": 32,
   "metadata": {},
   "outputs": [
    {
     "ename": "IndexError",
     "evalue": "too many indices for tensor of dimension 1",
     "output_type": "error",
     "traceback": [
      "\u001b[0;31m---------------------------------------------------------------------------\u001b[0m",
      "\u001b[0;31mIndexError\u001b[0m                                Traceback (most recent call last)",
      "\u001b[0;32m<ipython-input-32-a52227f72273>\u001b[0m in \u001b[0;36m<module>\u001b[0;34m\u001b[0m\n\u001b[1;32m      3\u001b[0m \u001b[0;32mfor\u001b[0m \u001b[0mr\u001b[0m \u001b[0;32min\u001b[0m \u001b[0mrange\u001b[0m\u001b[0;34m(\u001b[0m\u001b[0mbox\u001b[0m\u001b[0;34m.\u001b[0m\u001b[0mshape\u001b[0m\u001b[0;34m[\u001b[0m\u001b[0;36m0\u001b[0m\u001b[0;34m]\u001b[0m\u001b[0;34m)\u001b[0m\u001b[0;34m:\u001b[0m\u001b[0;34m\u001b[0m\u001b[0;34m\u001b[0m\u001b[0m\n\u001b[1;32m      4\u001b[0m     selfbox[r][torch.eye(3).bool()] = torch.tensor(\n\u001b[0;32m----> 5\u001b[0;31m         box[r], dtype=selfbox.dtype)\n\u001b[0m\u001b[1;32m      6\u001b[0m \u001b[0mprint\u001b[0m\u001b[0;34m(\u001b[0m\u001b[0mselfbox\u001b[0m \u001b[0;34m)\u001b[0m\u001b[0;34m\u001b[0m\u001b[0;34m\u001b[0m\u001b[0m\n",
      "\u001b[0;31mIndexError\u001b[0m: too many indices for tensor of dimension 1"
     ]
    }
   ],
   "source": [
    "selfbox = ta\n",
    "box = a\n",
    "for r in range(box.shape[0]):\n",
    "    selfbox[r][torch.eye(3).bool()] = torch.tensor(\n",
    "        box[r], dtype=selfbox.dtype)\n",
    "print(selfbox )            "
   ]
  },
  {
   "cell_type": "code",
   "execution_count": 33,
   "metadata": {},
   "outputs": [
    {
     "ename": "IndexError",
     "evalue": "too many indices for tensor of dimension 1",
     "output_type": "error",
     "traceback": [
      "\u001b[0;31m---------------------------------------------------------------------------\u001b[0m",
      "\u001b[0;31mIndexError\u001b[0m                                Traceback (most recent call last)",
      "\u001b[0;32m<ipython-input-33-8ce042bf456a>\u001b[0m in \u001b[0;36m<module>\u001b[0;34m\u001b[0m\n\u001b[1;32m      1\u001b[0m selfbox[0][torch.eye(3).bool()] = torch.tensor(\n\u001b[0;32m----> 2\u001b[0;31m         box[0], dtype=selfbox.dtype)\n\u001b[0m",
      "\u001b[0;31mIndexError\u001b[0m: too many indices for tensor of dimension 1"
     ]
    }
   ],
   "source": [
    "selfbox[0][torch.eye(3).bool()] = torch.tensor(\n",
    "        box[0], dtype=selfbox.dtype)"
   ]
  },
  {
   "cell_type": "code",
   "execution_count": null,
   "metadata": {},
   "outputs": [],
   "source": []
  },
  {
   "cell_type": "code",
   "execution_count": 28,
   "metadata": {},
   "outputs": [
    {
     "name": "stdout",
     "output_type": "stream",
     "text": [
      "Tensor(shape=[2, 3, 3], dtype=float64, place=Place(gpu:0), stop_gradient=True,\n",
      "       [[[-0.35666844,  0.        ,  0.        ],\n",
      "         [ 0.        ,  0.95460963,  0.        ],\n",
      "         [ 0.        ,  0.        , -0.24597028]],\n",
      "\n",
      "        [[ 0.11340753,  0.        ,  0.        ],\n",
      "         [ 0.        ,  0.38805964,  0.        ],\n",
      "         [ 0.        ,  0.        , -0.46283856]]])\n"
     ]
    }
   ],
   "source": [
    "selfbox = paddle.to_tensor(a)\n",
    "for r in range(box.shape[0]):\n",
    "#             self.box[r][paddle.eye(3).astype(paddle.bool)] = paddle.to_tensor(\n",
    "#                 box[r], dtype=self.box.dtype)\n",
    "    selfbox[r] = paddle.to_tensor(\n",
    "        box[r], dtype=selfbox.dtype) * paddle.eye(3).astype(paddle.bool)\n",
    "print(selfbox)"
   ]
  },
  {
   "cell_type": "code",
   "execution_count": 34,
   "metadata": {},
   "outputs": [
    {
     "ename": "ValueError",
     "evalue": "(InvalidArgument) fill_constant(): argument (position 6) must be float, but got numpy.ndarray (at /paddle/paddle/fluid/pybind/op_function_common.cc:189)\n",
     "output_type": "error",
     "traceback": [
      "\u001b[0;31m---------------------------------------------------------------------------\u001b[0m",
      "\u001b[0;31mValueError\u001b[0m                                Traceback (most recent call last)",
      "\u001b[0;32m<ipython-input-34-8a8e62bfd501>\u001b[0m in \u001b[0;36m<module>\u001b[0;34m\u001b[0m\n\u001b[0;32m----> 1\u001b[0;31m \u001b[0mtmp\u001b[0m \u001b[0;34m=\u001b[0m \u001b[0mbox\u001b[0m\u001b[0;34m*\u001b[0m\u001b[0mpaddle\u001b[0m\u001b[0;34m.\u001b[0m\u001b[0meye\u001b[0m\u001b[0;34m(\u001b[0m\u001b[0;36m3\u001b[0m\u001b[0;34m)\u001b[0m\u001b[0;34m\u001b[0m\u001b[0;34m\u001b[0m\u001b[0m\n\u001b[0m",
      "\u001b[0;32m/opt/conda/lib/python3.6/site-packages/paddle/fluid/dygraph/math_op_patch.py\u001b[0m in \u001b[0;36m__impl__\u001b[0;34m(self, other_var)\u001b[0m\n\u001b[1;32m    256\u001b[0m                         \u001b[0;31m# add fill_op\u001b[0m\u001b[0;34m\u001b[0m\u001b[0;34m\u001b[0m\u001b[0;34m\u001b[0m\u001b[0m\n\u001b[1;32m    257\u001b[0m                         other_var = create_scalar(\n\u001b[0;32m--> 258\u001b[0;31m                             value=other_var, dtype=lhs_dtype)\n\u001b[0m\u001b[1;32m    259\u001b[0m \u001b[0;34m\u001b[0m\u001b[0m\n\u001b[1;32m    260\u001b[0m             \u001b[0;31m# 3. promote types or unify right var type to left var\u001b[0m\u001b[0;34m\u001b[0m\u001b[0;34m\u001b[0m\u001b[0;34m\u001b[0m\u001b[0m\n",
      "\u001b[0;32m/opt/conda/lib/python3.6/site-packages/paddle/fluid/dygraph/math_op_patch.py\u001b[0m in \u001b[0;36mcreate_scalar\u001b[0;34m(value, dtype)\u001b[0m\n\u001b[1;32m     88\u001b[0m \u001b[0;34m\u001b[0m\u001b[0m\n\u001b[1;32m     89\u001b[0m     \u001b[0;32mdef\u001b[0m \u001b[0mcreate_scalar\u001b[0m\u001b[0;34m(\u001b[0m\u001b[0mvalue\u001b[0m\u001b[0;34m,\u001b[0m \u001b[0mdtype\u001b[0m\u001b[0;34m)\u001b[0m\u001b[0;34m:\u001b[0m\u001b[0;34m\u001b[0m\u001b[0;34m\u001b[0m\u001b[0m\n\u001b[0;32m---> 90\u001b[0;31m         \u001b[0;32mreturn\u001b[0m \u001b[0mcreate_tensor\u001b[0m\u001b[0;34m(\u001b[0m\u001b[0mvalue\u001b[0m\u001b[0;34m,\u001b[0m \u001b[0mdtype\u001b[0m\u001b[0;34m,\u001b[0m \u001b[0mshape\u001b[0m\u001b[0;34m=\u001b[0m\u001b[0;34m[\u001b[0m\u001b[0;36m1\u001b[0m\u001b[0;34m]\u001b[0m\u001b[0;34m)\u001b[0m\u001b[0;34m\u001b[0m\u001b[0;34m\u001b[0m\u001b[0m\n\u001b[0m\u001b[1;32m     91\u001b[0m \u001b[0;34m\u001b[0m\u001b[0m\n\u001b[1;32m     92\u001b[0m     \u001b[0;32mdef\u001b[0m \u001b[0mastype\u001b[0m\u001b[0;34m(\u001b[0m\u001b[0mself\u001b[0m\u001b[0;34m,\u001b[0m \u001b[0mdtype\u001b[0m\u001b[0;34m)\u001b[0m\u001b[0;34m:\u001b[0m\u001b[0;34m\u001b[0m\u001b[0;34m\u001b[0m\u001b[0m\n",
      "\u001b[0;32m</opt/conda/lib/python3.6/site-packages/decorator.py:decorator-gen-278>\u001b[0m in \u001b[0;36mcreate_tensor\u001b[0;34m(value, dtype, shape)\u001b[0m\n",
      "\u001b[0;32m/opt/conda/lib/python3.6/site-packages/paddle/fluid/dygraph/base.py\u001b[0m in \u001b[0;36m__impl__\u001b[0;34m(func, *args, **kwargs)\u001b[0m\n\u001b[1;32m    297\u001b[0m         \u001b[0;32mdef\u001b[0m \u001b[0m__impl__\u001b[0m\u001b[0;34m(\u001b[0m\u001b[0mfunc\u001b[0m\u001b[0;34m,\u001b[0m \u001b[0;34m*\u001b[0m\u001b[0margs\u001b[0m\u001b[0;34m,\u001b[0m \u001b[0;34m**\u001b[0m\u001b[0mkwargs\u001b[0m\u001b[0;34m)\u001b[0m\u001b[0;34m:\u001b[0m\u001b[0;34m\u001b[0m\u001b[0;34m\u001b[0m\u001b[0m\n\u001b[1;32m    298\u001b[0m             \u001b[0;32mwith\u001b[0m \u001b[0m_switch_tracer_mode_guard_\u001b[0m\u001b[0;34m(\u001b[0m\u001b[0mis_train\u001b[0m\u001b[0;34m=\u001b[0m\u001b[0;32mFalse\u001b[0m\u001b[0;34m)\u001b[0m\u001b[0;34m:\u001b[0m\u001b[0;34m\u001b[0m\u001b[0;34m\u001b[0m\u001b[0m\n\u001b[0;32m--> 299\u001b[0;31m                 \u001b[0;32mreturn\u001b[0m \u001b[0mfunc\u001b[0m\u001b[0;34m(\u001b[0m\u001b[0;34m*\u001b[0m\u001b[0margs\u001b[0m\u001b[0;34m,\u001b[0m \u001b[0;34m**\u001b[0m\u001b[0mkwargs\u001b[0m\u001b[0;34m)\u001b[0m\u001b[0;34m\u001b[0m\u001b[0;34m\u001b[0m\u001b[0m\n\u001b[0m\u001b[1;32m    300\u001b[0m \u001b[0;34m\u001b[0m\u001b[0m\n\u001b[1;32m    301\u001b[0m         \u001b[0;32mreturn\u001b[0m \u001b[0m__impl__\u001b[0m\u001b[0;34m(\u001b[0m\u001b[0mfunc\u001b[0m\u001b[0;34m)\u001b[0m\u001b[0;34m\u001b[0m\u001b[0;34m\u001b[0m\u001b[0m\n",
      "\u001b[0;32m/opt/conda/lib/python3.6/site-packages/paddle/fluid/dygraph/math_op_patch.py\u001b[0m in \u001b[0;36mcreate_tensor\u001b[0;34m(value, dtype, shape)\u001b[0m\n\u001b[1;32m     83\u001b[0m         \u001b[0mout\u001b[0m \u001b[0;34m=\u001b[0m \u001b[0m_varbase_creator\u001b[0m\u001b[0;34m(\u001b[0m\u001b[0mdtype\u001b[0m\u001b[0;34m=\u001b[0m\u001b[0mdtype\u001b[0m\u001b[0;34m)\u001b[0m\u001b[0;34m\u001b[0m\u001b[0;34m\u001b[0m\u001b[0m\n\u001b[1;32m     84\u001b[0m         out = _C_ops.fill_constant(out, 'dtype', dtype, 'shape', shape, 'value',\n\u001b[0;32m---> 85\u001b[0;31m                                    value, 'force_cpu', False)\n\u001b[0m\u001b[1;32m     86\u001b[0m         \u001b[0mout\u001b[0m\u001b[0;34m.\u001b[0m\u001b[0mstop_gradient\u001b[0m \u001b[0;34m=\u001b[0m \u001b[0;32mTrue\u001b[0m\u001b[0;34m\u001b[0m\u001b[0;34m\u001b[0m\u001b[0m\n\u001b[1;32m     87\u001b[0m         \u001b[0;32mreturn\u001b[0m \u001b[0mout\u001b[0m\u001b[0;34m\u001b[0m\u001b[0;34m\u001b[0m\u001b[0m\n",
      "\u001b[0;31mValueError\u001b[0m: (InvalidArgument) fill_constant(): argument (position 6) must be float, but got numpy.ndarray (at /paddle/paddle/fluid/pybind/op_function_common.cc:189)\n"
     ]
    }
   ],
   "source": [
    "# tmp = box*paddle.eye(3)"
   ]
  },
  {
   "cell_type": "markdown",
   "metadata": {},
   "source": [
    "## 飞桨grad例子\n"
   ]
  },
  {
   "cell_type": "code",
   "execution_count": 8,
   "metadata": {},
   "outputs": [
    {
     "name": "stdout",
     "output_type": "stream",
     "text": [
      "Tensor(shape=[1, 2], dtype=float32, place=Place(gpu:0), stop_gradient=False,\n",
      "       [[1., 1.]])\n",
      "==dx:Tensor(shape=[1, 2], dtype=float32, place=Place(gpu:0), stop_gradient=True,\n",
      "       [[2., 2.]])\n",
      "[[2. 2.]]\n",
      "Tensor(shape=[1, 2], dtype=float32, place=Place(gpu:0), stop_gradient=False,\n",
      "       [[1., 1.]])\n",
      "==dx:Tensor(shape=[1, 2], dtype=float32, place=Place(gpu:0), stop_gradient=False,\n",
      "       [[2., 2.]])\n",
      "[[4. 4.]]\n"
     ]
    }
   ],
   "source": [
    "import paddle\n",
    "\n",
    "def test_dygraph_grad(create_graph):\n",
    "    x = paddle.ones(shape=[1,2], dtype='float32')\n",
    "    x.stop_gradient = False\n",
    "    y = x * x\n",
    "    print(y)\n",
    "\n",
    "    # Since y = x * x, dx = 2 * x\n",
    "    dx = paddle.grad(\n",
    "            outputs=[y],\n",
    "            inputs=[x],\n",
    "            create_graph=create_graph,\n",
    "            retain_graph=True)[0]\n",
    "    print(f\"==dx:{dx}\")\n",
    "    z = y + dx\n",
    "\n",
    "    # If create_graph = False, the gradient of dx\n",
    "    # would not be backpropagated. Therefore,\n",
    "    # z = x * x + dx, and x.gradient() = 2 * x = 2.0\n",
    "\n",
    "    # If create_graph = True, the gradient of dx\n",
    "    # would be backpropagated. Therefore,\n",
    "    # z = x * x + dx = x * x + 2 * x, and\n",
    "    # x.gradient() = 2 * x + 2 = 4.0\n",
    "\n",
    "    z.backward()\n",
    "    return x.gradient()\n",
    "\n",
    "print(test_dygraph_grad(create_graph=False)) # [2.]\n",
    "print(test_dygraph_grad(create_graph=True)) # [4.]\n"
   ]
  },
  {
   "cell_type": "code",
   "execution_count": 9,
   "metadata": {},
   "outputs": [
    {
     "name": "stdout",
     "output_type": "stream",
     "text": [
      "[7.]\n",
      "[16.]\n",
      "[19.]\n",
      "[24.]\n"
     ]
    }
   ],
   "source": [
    "import paddle\n",
    "\n",
    "def test_dygraph_grad(grad_outputs=None):\n",
    "    x = paddle.to_tensor(2.0)\n",
    "    x.stop_gradient = False\n",
    "\n",
    "    y1 = x * x\n",
    "    y2 = x * 3\n",
    "\n",
    "    # If grad_outputs=None, dy1 = [1], dy2 = [1].\n",
    "    # If grad_outputs=[g1, g2], then:\n",
    "    #    - dy1 = [1] if g1 is None else g1\n",
    "    #    - dy2 = [1] if g2 is None else g2\n",
    "\n",
    "    # Since y1 = x * x, dx = 2 * x * dy1.\n",
    "    # Since y2 = x * 3, dx = 3 * dy2.\n",
    "    # Therefore, the final result would be:\n",
    "    # dx = 2 * x * dy1 + 3 * dy2 = 4 * dy1 + 3 * dy2.\n",
    "\n",
    "    dx = paddle.grad(\n",
    "        outputs=[y1, y2],\n",
    "        inputs=[x],\n",
    "        grad_outputs=grad_outputs)[0]\n",
    "\n",
    "    return dx.numpy()\n",
    "\n",
    "grad_value = paddle.to_tensor(4.0)\n",
    "\n",
    "# dy1 = [1], dy2 = [1]\n",
    "print(test_dygraph_grad(None)) # [7.]\n",
    "\n",
    "# dy1 = [1], dy2 = [4]\n",
    "print(test_dygraph_grad([None, grad_value])) # [16.]\n",
    "\n",
    "# dy1 = [4], dy2 = [1]\n",
    "print(test_dygraph_grad([grad_value, None])) # [19.]\n",
    "\n",
    "# dy1 = [3], dy2 = [4]\n",
    "grad_y1 = paddle.to_tensor(3.0)\n",
    "print(test_dygraph_grad([grad_y1, grad_value])) # [24.]\n"
   ]
  },
  {
   "cell_type": "code",
   "execution_count": 15,
   "metadata": {},
   "outputs": [
    {
     "name": "stdout",
     "output_type": "stream",
     "text": [
      "terms:None\n",
      "terms:['bonds', 'angles', 'dihedrals', 'impropers', '1-4', 'electrostatics', 'lj', 'repulsion', 'repulsioncg']\n"
     ]
    }
   ],
   "source": [
    "class Forces:\n",
    "    # 1-4 is nonbonded but we put it currently in bonded to not calculate all distances\n",
    "    bonded = [\"bonds\", \"angles\", \"dihedrals\", \"impropers\", \"1-4\"]\n",
    "    nonbonded = [\"electrostatics\", \"lj\", \"repulsion\", \"repulsioncg\"]\n",
    "    terms = bonded + nonbonded\n",
    "    def __init__(\n",
    "        self,\n",
    "        terms=None):\n",
    "        print(f\"terms:{terms}\")\n",
    "        if terms is None:\n",
    "            terms = self.terms\n",
    "        print(f\"terms:{terms}\")\n",
    "test = Forces()"
   ]
  },
  {
   "cell_type": "code",
   "execution_count": null,
   "metadata": {},
   "outputs": [],
   "source": []
  }
 ],
 "metadata": {
  "kernelspec": {
   "display_name": "Python 3",
   "language": "python",
   "name": "python3"
  },
  "language_info": {
   "codemirror_mode": {
    "name": "ipython",
    "version": 3
   },
   "file_extension": ".py",
   "mimetype": "text/x-python",
   "name": "python",
   "nbconvert_exporter": "python",
   "pygments_lexer": "ipython3",
   "version": "3.6.9"
  }
 },
 "nbformat": 4,
 "nbformat_minor": 4
}
