{
 "cells": [
  {
   "cell_type": "markdown",
   "metadata": {},
   "source": [
    "# PaddleMD测试\n",
    "要在命令行测试，首先需要安装相关的库\n",
    "然后使用develop方式安装PaddleMD\n",
    "最后执行命令\n",
    "\n",
    "## 在notebook中安装moleculekit和openmm\n",
    "若在前面没有pip安装好moleculekit，则可以使用conda安装。\n",
    "\n",
    "openmm是用于分子模拟的高性能工具包，只能使用conda安装，安装命令：\n",
    "`conda install openmm -c conda-forge`\n",
    "\n",
    "\n",
    "## 测试记录：\n",
    "发现测试水分子的时候，很多值都没有变动。是不是没有反向传播的原因？（持续关注中）\n",
    "\n",
    "综合测试的时候，Energy diff: 4.206e-08 Force diff 1.697e+00\n",
    "能量差值很小，而力场差别很大！ \n",
    "比如2watersperiodic： electrostatic Energy diff: 3.203e-06 Force diff: 1.695e+00\n",
    "静电力场差值很大！ \n",
    "\n",
    "在重新改写了index_add算子后，力场差别缩小到可以接受的范围内。\n",
    "\n",
    "水分子、prod alanine dipeptide前丙氨酸二和Trypsin胰蛋白酶等论文提到的三个测试可以运行通过\n",
    "\n",
    "\n",
    "\n"
   ]
  },
  {
   "cell_type": "markdown",
   "metadata": {},
   "source": [
    "## 先安装需要的库\n",
    "openmm需要在命令行使用conda安装，moleculekit可以使用conda安装，也可以pip安装特定版本：\n",
    "```\n",
    "conda install openmm -c conda-forge\n",
    "conda install moleculekit -c acellera\n",
    "\n",
    "!pip install moleculekit==1.0.8 -i https://mirror.baidu.com/pypi/simple\n",
    "```\n"
   ]
  },
  {
   "cell_type": "code",
   "execution_count": 5,
   "metadata": {},
   "outputs": [],
   "source": [
    "# !pip install moleculekit==1.0.8 -i https://mirror.baidu.com/pypi/simple"
   ]
  },
  {
   "cell_type": "markdown",
   "metadata": {},
   "source": [
    "## 安装paddlemd开发模式\n",
    "安装时使用develop参数，在修改源码后，会自动更新paddlemd库，这样非常便于调试。\n",
    "\n",
    "在不需要调试的情况，安装paddlemd可以使用命令：`python setup.py install `"
   ]
  },
  {
   "cell_type": "code",
   "execution_count": 1,
   "metadata": {},
   "outputs": [
    {
     "name": "stdout",
     "output_type": "stream",
     "text": [
      "fatal: No names found, cannot describe anything.\n",
      "Could not get version tag. Defaulting to version 0\n",
      "running develop\n",
      "running egg_info\n",
      "writing paddlemd.egg-info/PKG-INFO\n",
      "writing dependency_links to paddlemd.egg-info/dependency_links.txt\n",
      "writing requirements to paddlemd.egg-info/requires.txt\n",
      "writing top-level names to paddlemd.egg-info/top_level.txt\n",
      "reading manifest file 'paddlemd.egg-info/SOURCES.txt'\n",
      "writing manifest file 'paddlemd.egg-info/SOURCES.txt'\n",
      "running build_ext\n",
      "Creating /opt/conda/lib/python3.6/site-packages/paddlemd.egg-link (link to .)\n",
      "Adding paddlemd 0 to easy-install.pth file\n",
      "\n",
      "Installed /code/6paper/PaddleMD\n",
      "Processing dependencies for paddlemd==0\n",
      "Searching for scipy==1.3.1\n",
      "Best match: scipy 1.3.1\n",
      "Adding scipy 1.3.1 to easy-install.pth file\n",
      "\n",
      "Using /opt/conda/lib/python3.6/site-packages\n",
      "Searching for networkx==2.0\n",
      "Best match: networkx 2.0\n",
      "Adding networkx 2.0 to easy-install.pth file\n",
      "\n",
      "Using /opt/conda/lib/python3.6/site-packages\n",
      "Searching for pandas==1.1.5\n",
      "Best match: pandas 1.1.5\n",
      "Adding pandas 1.1.5 to easy-install.pth file\n",
      "\n",
      "Using /opt/conda/lib/python3.6/site-packages\n",
      "Searching for moleculekit==0\n",
      "Best match: moleculekit 0\n",
      "Adding moleculekit 0 to easy-install.pth file\n",
      "\n",
      "Using /opt/conda/lib/python3.6/site-packages\n",
      "Searching for tqdm==4.31.1\n",
      "Best match: tqdm 4.31.1\n",
      "Adding tqdm 4.31.1 to easy-install.pth file\n",
      "Installing tqdm script to /opt/conda/bin\n",
      "\n",
      "Using /opt/conda/lib/python3.6/site-packages\n",
      "Searching for PyYAML==5.1.2\n",
      "Best match: PyYAML 5.1.2\n",
      "Adding PyYAML 5.1.2 to easy-install.pth file\n",
      "\n",
      "Using /opt/conda/lib/python3.6/site-packages\n",
      "Searching for decorator==4.4.0\n",
      "Best match: decorator 4.4.0\n",
      "Adding decorator 4.4.0 to easy-install.pth file\n",
      "\n",
      "Using /opt/conda/lib/python3.6/site-packages\n",
      "Searching for pytz==2019.2\n",
      "Best match: pytz 2019.2\n",
      "Adding pytz 2019.2 to easy-install.pth file\n",
      "\n",
      "Using /opt/conda/lib/python3.6/site-packages\n",
      "Searching for numpy==1.17.2\n",
      "Best match: numpy 1.17.2\n",
      "Adding numpy 1.17.2 to easy-install.pth file\n",
      "Installing f2py script to /opt/conda/bin\n",
      "Installing f2py3 script to /opt/conda/bin\n",
      "Installing f2py3.6 script to /opt/conda/bin\n",
      "\n",
      "Using /opt/conda/lib/python3.6/site-packages\n",
      "Searching for python-dateutil==2.8.0\n",
      "Best match: python-dateutil 2.8.0\n",
      "Adding python-dateutil 2.8.0 to easy-install.pth file\n",
      "\n",
      "Using /opt/conda/lib/python3.6/site-packages\n",
      "Searching for mmtf-python==1.1.2\n",
      "Best match: mmtf-python 1.1.2\n",
      "Adding mmtf-python 1.1.2 to easy-install.pth file\n",
      "\n",
      "Using /opt/conda/lib/python3.6/site-packages\n",
      "Searching for six==1.12.0\n",
      "Best match: six 1.12.0\n",
      "Adding six 1.12.0 to easy-install.pth file\n",
      "\n",
      "Using /opt/conda/lib/python3.6/site-packages\n",
      "Searching for msgpack==0.6.1\n",
      "Best match: msgpack 0.6.1\n",
      "Adding msgpack 0.6.1 to easy-install.pth file\n",
      "\n",
      "Using /opt/conda/lib/python3.6/site-packages\n",
      "Finished processing dependencies for paddlemd==0\n"
     ]
    }
   ],
   "source": [
    "!python setup.py develop"
   ]
  },
  {
   "cell_type": "markdown",
   "metadata": {},
   "source": [
    "# 开始执行集合测试程序\n",
    "\n",
    "\n",
    "## 效果尚可\n",
    "与openmm的差值为\n",
    "```\n",
    "Running test: test-data/thrombin-ligand-amber/\n",
    "  angle Energy diff: -5.433e-05 Force diff: 1.108e-03\n",
    "  bond Energy diff: 1.861e-04 Force diff: 4.413e-03\n",
    "  dihedral Energy diff: 3.932e-05 Force diff: 6.289e-04\n",
    "  lennardjones Energy diff: 1.829e-04 Force diff: 5.169e-04\n",
    "```\n",
    "gpu显存占用 4874MiB / 15109MiB\n",
    "\n",
    "## 目前还没有完全跑通\n",
    "在paddle.autograd.grad处报错，问题还在持续解决中。"
   ]
  },
  {
   "cell_type": "code",
   "execution_count": 8,
   "metadata": {},
   "outputs": [
    {
     "name": "stdout",
     "output_type": "stream",
     "text": [
      "Warning: importing 'simtk.openmm' is deprecated.  Import 'openmm' instead.\n",
      "/opt/conda/lib/python3.6/site-packages/setuptools/depends.py:2: DeprecationWarning: the imp module is deprecated in favour of importlib; see the module's documentation for alternative uses\n",
      "  import imp\n",
      "test_paddlemd (__main__._TestPaddleMD) ... \n",
      "Running test: test-data/4dihedrals/\n",
      "/opt/conda/lib/python3.6/importlib/_bootstrap.py:219: RuntimeWarning: numpy.ufunc size changed, may indicate binary incompatibility. Expected 192 from C header, got 216 from PyObject\n",
      "  return f(*args, **kwds)\n",
      "/opt/conda/lib/python3.6/importlib/_bootstrap.py:219: RuntimeWarning: numpy.ufunc size changed, may indicate binary incompatibility. Expected 192 from C header, got 216 from PyObject\n",
      "  return f(*args, **kwds)\n",
      "/opt/conda/lib/python3.6/importlib/_bootstrap.py:219: RuntimeWarning: numpy.ufunc size changed, may indicate binary incompatibility. Expected 192 from C header, got 216 from PyObject\n",
      "  return f(*args, **kwds)\n",
      "W0610 23:17:06.667917 14989 gpu_context.cc:278] Please NOTE: device: 0, GPU Compute Capability: 7.5, Driver API Version: 11.0, Runtime API Version: 10.2\n",
      "W0610 23:17:06.671917 14989 gpu_context.cc:306] device: 0, cuDNN Version: 7.6.\n",
      "/opt/conda/lib/python3.6/site-packages/paddle/fluid/dygraph/math_op_patch.py:278: UserWarning: The dtype of left and right variables are not the same, left dtype is paddle.float32, but right dtype is paddle.bool, the right dtype will convert to paddle.float32\n",
      "  format(lhs_dtype, rhs_dtype, lhs_dtype))\n",
      "  angle Energy diff: 1.226e-06 Force diff: 3.350e-05\n",
      "  bond Energy diff: -1.898e-06 Force diff: 1.177e-04\n",
      "  dihedral Energy diff: -2.963e-07 Force diff: 2.575e-06\n",
      "  lennardjones Energy diff: 1.426e-06 Force diff: 2.679e-06\n",
      "  electrostatic Energy diff: 4.205e-08 Force diff: 3.749e-08\n",
      "All forces. Total energy: 7.416 Energy diff: 4.998e-07 Force diff 1.211e-04\n",
      "\n",
      "Running test: test-data/thrombin-ligand-amber/\n",
      "Too high difference in angle energies: -724.149285291709\n",
      "  angle Energy diff: -7.241e+02 Force diff: 1.374e+02\n",
      "Too high difference in bond energies: -311.3071564347034\n",
      "  bond Energy diff: -3.113e+02 Force diff: 4.413e-03\n",
      "Too high difference in dihedral energies: -3215.575155992701\n",
      "  dihedral Energy diff: -3.216e+03 Force diff: 1.936e+02\n",
      "Too high difference in lj energies: 1324.6698606607115\n",
      "  lennardjones Energy diff: 1.325e+03 Force diff: 5.169e-04\n",
      "Too high difference in electrostatic energies: 9283.546459246674\n",
      "  electrostatic Energy diff: 9.284e+03 Force diff: 2.102e-04\n",
      "^C\n",
      "Traceback (most recent call last):\n",
      "  File \"tests/test_paddlemd.py\", line 563, in <module>\n",
      "    unittest.main(verbosity=2)\n",
      "  File \"/opt/conda/lib/python3.6/unittest/main.py\", line 95, in __init__\n",
      "    self.runTests()\n",
      "  File \"/opt/conda/lib/python3.6/unittest/main.py\", line 256, in runTests\n",
      "    self.result = testRunner.run(self.test)\n",
      "  File \"/opt/conda/lib/python3.6/unittest/runner.py\", line 176, in run\n",
      "    test(result)\n",
      "  File \"/opt/conda/lib/python3.6/unittest/suite.py\", line 84, in __call__\n",
      "    return self.run(*args, **kwds)\n",
      "  File \"/opt/conda/lib/python3.6/unittest/suite.py\", line 122, in run\n",
      "    test(result)\n",
      "  File \"/opt/conda/lib/python3.6/unittest/suite.py\", line 84, in __call__\n",
      "    return self.run(*args, **kwds)\n",
      "  File \"/opt/conda/lib/python3.6/unittest/suite.py\", line 122, in run\n",
      "    test(result)\n",
      "  File \"/opt/conda/lib/python3.6/unittest/case.py\", line 653, in __call__\n",
      "    return self.run(*args, **kwds)\n",
      "  File \"/opt/conda/lib/python3.6/unittest/case.py\", line 605, in run\n",
      "    testMethod()\n",
      "  File \"tests/test_paddlemd.py\", line 459, in test_paddlemd\n",
      "    system.pos, system.box, system.forces, returnDetails=True\n",
      "  File \"/code/6paper/PaddleMD/paddlemd/forces.py\", line 222, in compute\n",
      "    r12, r23, r34, self.par.dihedral_params, explicit_forces\n",
      "  File \"/code/6paper/PaddleMD/paddlemd/forces.py\", line 697, in evaluate_torsion\n",
      "    coeff = paddlescatter(coeff, 0, idx, 2 * k0 * angleDiff)\n",
      "  File \"/code/6paper/PaddleMD/paddlemd/forces.py\", line 21, in paddlescatter\n",
      "    x[index[i]] += updates[i]\n",
      "  File \"/opt/conda/lib/python3.6/site-packages/paddle/fluid/dygraph/varbase_patch_methods.py\", line 735, in __getitem__\n",
      "    return _getitem_impl_(self, item)\n",
      "  File \"/opt/conda/lib/python3.6/site-packages/paddle/fluid/variable_index.py\", line 363, in _getitem_impl_\n",
      "    end = slice_item + 1 if slice_item != -1 else MAX_INTEGER\n",
      "  File \"/opt/conda/lib/python3.6/site-packages/paddle/fluid/dygraph/math_op_patch.py\", line 299, in __impl__\n",
      "    return math_op(self, other_var, 'axis', axis)\n",
      "KeyboardInterrupt\n"
     ]
    }
   ],
   "source": [
    "!python tests/test_paddlemd.py"
   ]
  },
  {
   "cell_type": "markdown",
   "metadata": {},
   "source": [
    "# 在命令行测试水分子\n",
    "\n",
    "执行命令为`./bin/paddlemd --conf tests/water/50000water_conf.yaml`\n",
    "\n",
    "torch下的速度7分36秒 飞桨下大约需要125分钟，约2小时。 目前torchmd比paddlemd快16倍。"
   ]
  },
  {
   "cell_type": "code",
   "execution_count": 3,
   "metadata": {},
   "outputs": [
    {
     "name": "stdout",
     "output_type": "stream",
     "text": [
      "/opt/conda/lib/python3.6/site-packages/setuptools/depends.py:2: DeprecationWarning: the imp module is deprecated in favour of importlib; see the module's documentation for alternative uses\n",
      "  import imp\n",
      "Force terms:  ['LJ', 'Bonds', 'Angles', 'Electrostatics']\n",
      "W0609 23:39:01.515558 12093 gpu_context.cc:278] Please NOTE: device: 0, GPU Compute Capability: 7.5, Driver API Version: 11.0, Runtime API Version: 10.2\n",
      "W0609 23:39:01.519376 12093 gpu_context.cc:306] device: 0, cuDNN Version: 7.6.\n",
      "/opt/conda/lib/python3.6/site-packages/paddle/fluid/dygraph/math_op_patch.py:278: UserWarning: The dtype of left and right variables are not the same, left dtype is paddle.float32, but right dtype is paddle.bool, the right dtype will convert to paddle.float32\n",
      "  format(lhs_dtype, rhs_dtype, lhs_dtype))\n",
      "Writing logs to  mywaterrun/monitor_0.csv\n",
      "Writing logs to  mywaterrun/monitor_1.csv\n",
      "100%|███████████████████████████████████████████| 20/20 [01:56<00:00,  5.82s/it]\n"
     ]
    }
   ],
   "source": [
    "# !./bin/paddlemd --conf tests/water/50000water_conf.yaml # 10step 快速测试\n",
    "!./bin/paddlemd --conf tests/water/water_conf.yaml"
   ]
  },
  {
   "cell_type": "markdown",
   "metadata": {},
   "source": [
    "# 在命令行测试prod alanine dipeptide前丙氨酸二肽\n",
    "能跑下去，但是估计时间比较多。大约需要3.5小时。\n",
    "跑出来的数值跟torchmd接近。"
   ]
  },
  {
   "cell_type": "code",
   "execution_count": 6,
   "metadata": {},
   "outputs": [
    {
     "name": "stdout",
     "output_type": "stream",
     "text": [
      "/opt/conda/lib/python3.6/site-packages/setuptools/depends.py:2: DeprecationWarning: the imp module is deprecated in favour of importlib; see the module's documentation for alternative uses\n",
      "  import imp\n",
      "Force terms:  None\n",
      "2022-06-10 23:16:27,732 - root - WARNING - Warning: importing 'simtk.openmm' is deprecated.  Import 'openmm' instead.\n",
      "W0610 23:16:29.678790 14878 gpu_context.cc:278] Please NOTE: device: 0, GPU Compute Capability: 7.5, Driver API Version: 11.0, Runtime API Version: 10.2\n",
      "W0610 23:16:29.682722 14878 gpu_context.cc:306] device: 0, cuDNN Version: 7.6.\n",
      "/opt/conda/lib/python3.6/site-packages/paddle/fluid/dygraph/math_op_patch.py:278: UserWarning: The dtype of left and right variables are not the same, left dtype is paddle.float32, but right dtype is paddle.bool, the right dtype will convert to paddle.float32\n",
      "  format(lhs_dtype, rhs_dtype, lhs_dtype))\n",
      "Writing logs to  /tmp/alanine_dipeptide/monitor_0.csv\n",
      "Iter  Epot            fmax    \n",
      "   0   -394.649102    94.587217\n",
      "   1   -244.550661    166.832683\n",
      "   2   -551.523351    52.779876\n",
      "   3   -625.533810    36.632190\n",
      "   4   -687.280174    30.542952\n",
      "   5   -733.957195    24.687769\n",
      "   6   -817.049847    24.728941\n",
      "   7   -754.416621    192.757056\n",
      "   8   -850.251786    70.110583\n",
      "   9   -901.238442    21.081143\n",
      "  10   -916.293758    18.888666\n",
      "  11   -936.403119    18.330622\n",
      "  12   -972.451366    27.532192\n",
      "  13   -990.597686    72.744751\n",
      "  14   -1017.251497    16.559860\n",
      "  15   -1024.191546    13.478834\n",
      "  16   -1032.753363    13.032802\n",
      "  17   -1048.537999    27.115936\n",
      "  18   -1065.972520    30.408961\n",
      "  19   -1079.827241    25.898649\n",
      "  20   -1087.685508    23.574063\n",
      "  21   -1093.872504    13.716661\n",
      "  22   -1100.373948    16.109899\n",
      "^C\n",
      "Traceback (most recent call last):\n",
      "  File \"/code/6paper/PaddleMD/bin/../paddlemd/run.py\", line 156, in <module>\n",
      "    dynamics(args, mol, system, forces)\n",
      "  File \"/code/6paper/PaddleMD/bin/../paddlemd/run.py\", line 133, in dynamics\n",
      "    minimize_bfgs(system, forces, steps=args.minimize)\n",
      "  File \"/code/6paper/PaddleMD/paddlemd/minimizers.py\", line 40, in minimize_bfgs\n",
      "    args=({\"Nfeval\": 0},),\n",
      "  File \"/opt/conda/lib/python3.6/site-packages/scipy/optimize/_minimize.py\", line 600, in minimize\n",
      "    callback=callback, **options)\n",
      "  File \"/opt/conda/lib/python3.6/site-packages/scipy/optimize/lbfgsb.py\", line 335, in _minimize_lbfgsb\n",
      "    f, g = func_and_grad(x)\n",
      "  File \"/opt/conda/lib/python3.6/site-packages/scipy/optimize/lbfgsb.py\", line 285, in func_and_grad\n",
      "    f = fun(x, *args)\n",
      "  File \"/opt/conda/lib/python3.6/site-packages/scipy/optimize/optimize.py\", line 326, in function_wrapper\n",
      "    return function(*(wrapper_args + args))\n",
      "  File \"/opt/conda/lib/python3.6/site-packages/scipy/optimize/optimize.py\", line 64, in __call__\n",
      "    fg = self.fun(x, *args)\n",
      "  File \"/code/6paper/PaddleMD/paddlemd/minimizers.py\", line 19, in evalfunc\n",
      "    Epot = forces.compute(coords, system.box, system.forces)[0]\n",
      "  File \"/code/6paper/PaddleMD/paddlemd/forces.py\", line 222, in compute\n",
      "    r12, r23, r34, self.par.dihedral_params, explicit_forces\n",
      "  File \"/code/6paper/PaddleMD/paddlemd/forces.py\", line 688, in evaluate_torsion\n",
      "    coeff = paddlescatter(coeff, 0, idx, -per * k0 * paddle.sin(angleDiff))\n",
      "  File \"/code/6paper/PaddleMD/paddlemd/forces.py\", line 21, in paddlescatter\n",
      "    x[index[i]] += updates[i]\n",
      "  File \"/opt/conda/lib/python3.6/site-packages/paddle/fluid/dygraph/varbase_patch_methods.py\", line 735, in __getitem__\n",
      "    return _getitem_impl_(self, item)\n",
      "  File \"/opt/conda/lib/python3.6/site-packages/paddle/fluid/variable_index.py\", line 489, in _getitem_impl_\n",
      "    attrs=attrs)\n",
      "  File \"/opt/conda/lib/python3.6/site-packages/paddle/fluid/framework.py\", line 3604, in append_op\n",
      "    inplace_map)\n",
      "  File \"/opt/conda/lib/python3.6/site-packages/paddle/fluid/dygraph/tracer.py\", line 309, in trace_op\n",
      "    not stop_gradient, inplace_map if inplace_map else {})\n",
      "KeyboardInterrupt\n"
     ]
    }
   ],
   "source": [
    "!./bin/paddlemd --conf tests/prod_alanine_dipeptide_amber/conf.yaml"
   ]
  },
  {
   "cell_type": "markdown",
   "metadata": {},
   "source": [
    "## 测试结果\n",
    "对比如下：\n",
    "```\n",
    "     Iter  Epot            fmax \n",
    "飞桨    405   -1362.860203    3.397800\n",
    "torch  405   -1362.809237    10.436576\n",
    "torch 1013   -1385.292748    2.422747\n",
    "```"
   ]
  },
  {
   "cell_type": "markdown",
   "metadata": {},
   "source": [
    "# 在命令行测试Trypsin胰蛋白酶\n",
    "这个胰蛋白酶的原子数大约是6904个，运行时间约需要2.5个小时"
   ]
  },
  {
   "cell_type": "code",
   "execution_count": 5,
   "metadata": {},
   "outputs": [
    {
     "name": "stdout",
     "output_type": "stream",
     "text": [
      "/opt/conda/lib/python3.6/site-packages/setuptools/depends.py:2: DeprecationWarning: the imp module is deprecated in favour of importlib; see the module's documentation for alternative uses\n",
      "  import imp\n",
      "Force terms:  ['LJ', 'Bonds', 'Angles', 'Electrostatics', 'Repulsioncg']\n",
      "2022-06-09 23:45:15,691 - root - WARNING - Warning: importing 'simtk.openmm' is deprecated.  Import 'openmm' instead.\n",
      "W0609 23:45:18.991420 12316 gpu_context.cc:278] Please NOTE: device: 0, GPU Compute Capability: 7.5, Driver API Version: 11.0, Runtime API Version: 10.2\n",
      "W0609 23:45:18.995924 12316 gpu_context.cc:306] device: 0, cuDNN Version: 7.6.\n",
      "/opt/conda/lib/python3.6/site-packages/paddle/fluid/dygraph/math_op_patch.py:278: UserWarning: The dtype of left and right variables are not the same, left dtype is paddle.float32, but right dtype is paddle.bool, the right dtype will convert to paddle.float32\n",
      "  format(lhs_dtype, rhs_dtype, lhs_dtype))\n",
      "Writing logs to  mytrypsin/monitor_0.csv\n",
      "  0%|▏                                        | 2/500 [00:24<1:39:53, 12.03s/it]^C\n",
      "  0%|▏                                        | 2/500 [00:34<2:21:43, 17.08s/it]\n",
      "Traceback (most recent call last):\n",
      "  File \"/code/6paper/PaddleMD/bin/../paddlemd/run.py\", line 156, in <module>\n",
      "    dynamics(args, mol, system, forces)\n",
      "  File \"/code/6paper/PaddleMD/bin/../paddlemd/run.py\", line 139, in dynamics\n",
      "    Ekin, Epot, T = integrator.step(niter=args.output_period)\n",
      "  File \"/code/6paper/PaddleMD/paddlemd/integrator.py\", line 69, in step\n",
      "    pot = self.forces.compute(s.pos, s.box, s.forces)\n",
      "  File \"/code/6paper/PaddleMD/paddlemd/forces.py\", line 404, in compute\n",
      "    forces[i] = paddleindex_add(forces[i], 0, ava_idx[:, 0], -forcevec)\n",
      "  File \"/code/6paper/PaddleMD/paddlemd/forces.py\", line 61, in paddleindex_add\n",
      "    return paddleput_alone_axis(x, index, source, dim)\n",
      "  File \"/code/6paper/PaddleMD/paddlemd/forces.py\", line 44, in paddleput_alone_axis\n",
      "    value[:lenarr], axis, reduce=reduce)\n",
      "  File \"/opt/conda/lib/python3.6/site-packages/paddle/fluid/dygraph/varbase_patch_methods.py\", line 739, in __getitem__\n",
      "    return self._getitem_index_not_tensor(item)\n",
      "KeyboardInterrupt\n"
     ]
    }
   ],
   "source": [
    "!./bin/paddlemd --conf tests/trypsin/conf.yaml"
   ]
  },
  {
   "cell_type": "markdown",
   "metadata": {},
   "source": [
    "# 专门处理集成测试中失败的例子\n",
    "比如报错的有：1dihedral二面角 1water水分子等。单独写一个测试文件，只测试water，以便快速复现报错信息，加快调试速度。\n"
   ]
  },
  {
   "cell_type": "code",
   "execution_count": 5,
   "metadata": {},
   "outputs": [
    {
     "name": "stdout",
     "output_type": "stream",
     "text": [
      "Warning: importing 'simtk.openmm' is deprecated.  Import 'openmm' instead.\n",
      "/opt/conda/lib/python3.6/site-packages/setuptools/depends.py:2: DeprecationWarning: the imp module is deprecated in favour of importlib; see the module's documentation for alternative uses\n",
      "  import imp\n",
      "test_paddlemd (__main__._TestPaddleMD) ... \n",
      "Running test: test-data/1water\n",
      "/opt/conda/lib/python3.6/importlib/_bootstrap.py:219: RuntimeWarning: numpy.ufunc size changed, may indicate binary incompatibility. Expected 192 from C header, got 216 from PyObject\n",
      "  return f(*args, **kwds)\n",
      "/opt/conda/lib/python3.6/importlib/_bootstrap.py:219: RuntimeWarning: numpy.ufunc size changed, may indicate binary incompatibility. Expected 192 from C header, got 216 from PyObject\n",
      "  return f(*args, **kwds)\n",
      "/opt/conda/lib/python3.6/importlib/_bootstrap.py:219: RuntimeWarning: numpy.ufunc size changed, may indicate binary incompatibility. Expected 192 from C header, got 216 from PyObject\n",
      "  return f(*args, **kwds)\n",
      "W0610 23:14:05.688604 14263 gpu_context.cc:278] Please NOTE: device: 0, GPU Compute Capability: 7.5, Driver API Version: 11.0, Runtime API Version: 10.2\n",
      "W0610 23:14:05.693271 14263 gpu_context.cc:306] device: 0, cuDNN Version: 7.6.\n",
      "/opt/conda/lib/python3.6/site-packages/paddle/fluid/dygraph/math_op_patch.py:278: UserWarning: The dtype of left and right variables are not the same, left dtype is paddle.float32, but right dtype is paddle.bool, the right dtype will convert to paddle.float32\n",
      "  format(lhs_dtype, rhs_dtype, lhs_dtype))\n",
      "  angle Energy diff: -5.367e-06 Force diff: 7.966e-05\n",
      "  bond Energy diff: -1.411e-05 Force diff: 3.634e-04\n",
      "  dihedral Energy diff: 0.000e+00 Force diff: 0.000e+00\n",
      "  lennardjones Energy diff: 0.000e+00 Force diff: 0.000e+00\n",
      "  electrostatic Energy diff: 0.000e+00 Force diff: 0.000e+00\n",
      "All forces. Total energy: 0.795 Energy diff: -1.948e-05 Force diff 4.440e-04\n",
      "ok\n",
      "test_replicas (__main__._TestPaddleMD) ... ERROR\n",
      "\n",
      "======================================================================\n",
      "ERROR: test_replicas (__main__._TestPaddleMD)\n",
      "----------------------------------------------------------------------\n",
      "Traceback (most recent call last):\n",
      "  File \"tests/test_paddlemd_water.py\", line 518, in test_replicas\n",
      "    explicit_forces=False,\n",
      "  File \"/code/6paper/PaddleMD/paddlemd/forces.py\", line 430, in compute\n",
      "    [enesum], [pos], only_inputs=True, retain_graph=False\n",
      "  File \"</opt/conda/lib/python3.6/site-packages/decorator.py:decorator-gen-49>\", line 2, in grad\n",
      "  File \"/opt/conda/lib/python3.6/site-packages/paddle/fluid/wrapped_decorator.py\", line 25, in __impl__\n",
      "    return wrapped_func(*args, **kwargs)\n",
      "  File \"/opt/conda/lib/python3.6/site-packages/paddle/fluid/framework.py\", line 434, in __impl__\n",
      "    return func(*args, **kwargs)\n",
      "  File \"/opt/conda/lib/python3.6/site-packages/paddle/fluid/dygraph/base.py\", line 663, in grad\n",
      "    retain_graph, allow_unused, only_inputs)\n",
      "RuntimeError: (PermissionDenied) Cannot set target var auto_2227_@GRAD twice\n",
      "  [Hint: Expected ready_var.var == nullptr, but received ready_var.var != nullptr.] (at /paddle/paddle/fluid/imperative/partial_grad_engine.cc:508)\n",
      "\n",
      "\n",
      "----------------------------------------------------------------------\n",
      "Ran 2 tests in 12.441s\n",
      "\n",
      "FAILED (errors=1)\n"
     ]
    }
   ],
   "source": [
    "!python tests/test_paddlemd_water.py"
   ]
  },
  {
   "cell_type": "markdown",
   "metadata": {},
   "source": [
    "# 调试\n",
    "## 执行测试之后卡住\n",
    "```\n",
    "W0503 16:17:49.902498  3748 device_context.cc:465] device: 0, cuDNN Version: 7.6.\n",
    "/opt/conda/lib/python3.6/site-packages/paddle/fluid/dygraph/math_op_patch.py:253: UserWarning: The dtype of left and right variables are not the same, left dtype is paddle.float32, but right dtype is paddle.bool, the right dtype will convert to paddle.float32\n",
    "  format(lhs_dtype, rhs_dtype, lhs_dtype))\n",
    "\n",
    "Running test: test-data/thrombin-ligand-amber/\n",
    "```\n",
    "## 卡住之后，手工中断，报错信息：\n",
    "```\n",
    "Running test: test-data/thrombin-ligand-amber/\n",
    "^C\n",
    "Traceback (most recent call last):\n",
    "  File \"tests/test_paddlemd.py\", line 551, in <module>\n",
    "    unittest.main(verbosity=2)\n",
    "  File \"/opt/conda/lib/python3.6/unittest/main.py\", line 95, in __init__\n",
    "    self.runTests()\n",
    "  File \"/opt/conda/lib/python3.6/unittest/main.py\", line 256, in runTests\n",
    "    self.result = testRunner.run(self.test)\n",
    "  File \"/opt/conda/lib/python3.6/unittest/runner.py\", line 176, in run\n",
    "    test(result)\n",
    "  File \"/opt/conda/lib/python3.6/unittest/suite.py\", line 84, in __call__\n",
    "    return self.run(*args, **kwds)\n",
    "  File \"/opt/conda/lib/python3.6/unittest/suite.py\", line 122, in run\n",
    "    test(result)\n",
    "  File \"/opt/conda/lib/python3.6/unittest/suite.py\", line 84, in __call__\n",
    "    return self.run(*args, **kwds)\n",
    "  File \"/opt/conda/lib/python3.6/unittest/suite.py\", line 122, in run\n",
    "    test(result)\n",
    "  File \"/opt/conda/lib/python3.6/unittest/case.py\", line 653, in __call__\n",
    "    return self.run(*args, **kwds)\n",
    "  File \"/opt/conda/lib/python3.6/unittest/case.py\", line 605, in run\n",
    "    testMethod()\n",
    "  File \"tests/test_paddlemd.py\", line 408, in test_paddlemd\n",
    "    system.pos, system.box, system.forces, returnDetails=True\n",
    "  File \"/code/6paper/PaddleMD/paddlemd/forces.py\", line 342, in compute\n",
    "    forces[i] = paddleindex_add(forces[i], 0, ava_idx[:, 0], -forcevec)\n",
    "  File \"/code/6paper/PaddleMD/paddlemd/forces.py\", line 38, in paddleindex_add\n",
    "    x[index[i]] += source[i]\n",
    "  File \"/opt/conda/lib/python3.6/site-packages/paddle/fluid/dygraph/varbase_patch_methods.py\", line 778, in __setitem__\n",
    "    return _setitem_impl_(self, item, value)\n",
    "  File \"/opt/conda/lib/python3.6/site-packages/paddle/fluid/variable_index.py\", line 703, in _setitem_impl_\n",
    "    inplace_map={\"Input\": \"Out\"})\n",
    "  File \"/opt/conda/lib/python3.6/site-packages/paddle/fluid/framework.py\", line 3604, in append_op\n",
    "    inplace_map)\n",
    "  File \"/opt/conda/lib/python3.6/site-packages/paddle/fluid/dygraph/tracer.py\", line 309, in trace_op\n",
    "    not stop_gradient, inplace_map if inplace_map else {})\n",
    "KeyboardInterrupt\n",
    "```\n",
    "\n",
    "## 测试水分子报错\n",
    "```\n",
    "  File \"/code/6paper/PaddleMD/bin/../paddlemd/run.py\", line 76, in setup\n",
    "    paddle.manual_seed(args.seed)\n",
    "AttributeError: module 'paddle' has no attribute 'manual_seed'\n",
    "root@f7d7b1900cfff011ec0b6ec0bb60bea6856f-task1-0:/code/6paper/PaddleMD# \n",
    "```\n",
    "问题是我看原代码，76句那句是注释掉的啊！出了灵异事件了 。\n",
    "晕，发现是改错文件了。并没有修改paddlemd那个目录的run文件，修改之。\n",
    "\n",
    "##  [operator < elementwise_add > error]\n",
    "```\n",
    "  File \"/code/6paper/PaddleMD/paddlemd/wrapper.py\", line 19, in paddleindexjia\n",
    "    tmp[xindex] += y\n",
    "  File \"/opt/conda/lib/python3.6/site-packages/paddle/fluid/dygraph/math_op_patch.py\", line 299, in __impl__\n",
    "    return math_op(self, other_var, 'axis', axis)\n",
    "ValueError: (InvalidArgument) Broadcast dimension mismatch. Operands could not be broadcast together with the shape of X = [3, 3] and the shape of Y = [2, 3]. Received [3] in X is not equal to [2] in Y at i:0.\n",
    "  [Hint: Expected x_dims_array[i] == y_dims_array[i] || x_dims_array[i] <= 1 || y_dims_array[i] <= 1 == true, but received x_dims_array[i] == y_dims_array[i] || x_dims_array[i] <= 1 || y_dims_array[i] <= 1:0 != true:1.] (at /paddle/paddle/phi/kernels/funcs/common_shape.h:84)\n",
    "  [operator < elementwise_add > error]\n",
    "```\n",
    "这样应该是paddleeye的锅。在下面处理paddleeye\n",
    "将所有的eye相关语句，修改成这样\n",
    "```\n",
    "# box = box[:, torch.eye(3).bool()]\n",
    "box = box*paddle.eye(3)\n",
    "box = box.sum(1)\n",
    "\n",
    "同时发现在forces.py文件中，有这样一句：\n",
    "sbox = box[i][torch.eye(3).bool()]\n",
    "相关的飞桨可以写为：\n",
    "sbox = box[i][paddle.eye(3).astype(paddle.bool)]\n",
    "\n",
    "```\n",
    "脑子有点乱了，系统里面用到的eye特别多。。。\n",
    "\n",
    "6.3日，回头看这里的报错，明显是paddleindexjia的报错啊！ 因为这个函数当时写的时候维度是写死的，所以碰到新情况shpae就对不齐了。\n",
    "解决的方法是使用numpy语句解决，加上tensor的来回变换，一共4句：\n",
    "```\n",
    "#                 pos[:, group] -= offset.unsqueeze(1)\n",
    "#                 pos = paddleindexjia(pos, -offset, group)\n",
    "                pos = pos.numpy()\n",
    "                offset = offset.unsqueeze(1).numpy()\n",
    "                pos[:, group] -= offset # 尝试使用numpy来处理 相关语句共4句\n",
    "                pos = paddle.to_tensor(pos)\n",
    "\n",
    "#             pos[:, self.nongrouped] -= offset.unsqueeze(1)\n",
    "#             pos = paddleindexjia(pos, -offset, self.nongrouped)\n",
    "            pos = pos.numpy()\n",
    "            offset = offset.unsqueeze(1).numpy()\n",
    "            pos[:, self.nongrouped] -= offset # 尝试使用numpy来处理 相关语句共4句\n",
    "            pos = paddle.to_tensor(pos)\n",
    "```\n",
    "两个地方需要修改，并且第二部分应该用参数self.nongrouped，以前误写成group，这次一并改回。\n",
    "## 专门修改eye相关函数\n",
    "比如这样的，我认为可以提速：\n",
    "```\n",
    "        for r in range(box.shape[0]):\n",
    "            self.box[r][torch.eye(3).bool()] = torch.tensor(\n",
    "                box[r], dtype=self.box.dtype, device=self.box.device\n",
    "            )\n",
    "```\n"
   ]
  },
  {
   "cell_type": "markdown",
   "metadata": {},
   "source": [
    "## 处理eye相关语句\n",
    "torch相关代码为`box = box[:, torch.eye(3).bool()] `\n",
    "\n",
    "## 修改paddleindex_add\n",
    "重写了paddleindex_add之后，测试水分子时报错：\n",
    "```\n",
    "[291, 3] indices.shape:[291] value.shape:[291, 3]\n",
    "==arr.shape:[291, 3] indices.shape:[291] value.shape:[291, 3]\n",
    "==arr.shape:[291, 3] indices.shape:[97] value.shape:[97, 3]\n",
    "==arr.shape:[291, 3] indices.shape:[97] value.shape:[97, 3]\n",
    "==arr.shape:[291, 3] indices.shape:[97] value.shape:[97, 3]\n",
    "==arr.shape:[291, 3] indices.shape:[15168] value.shape:[15168, 3]\n",
    "```\n",
    "不明白为什么会出来15168 这么大的维度值 ...\n",
    " ==arr.shape:[291, 3] indices.shape:[15168] value.shape:[15168, 3]\n",
    " \n",
    " 还有这么大的：Running test: test-data/thrombin-ligand-amber/\n",
    "==force line 276 explicit_forces:True electrostatics len of idx14[:, 0]:12320\n",
    "\n",
    "index_add里面加入截断。 要去看看torch怎么处理的，估计torch是按照顺序覆盖的。\n",
    "\n",
    "最终参考torch.index_add的实现，对paddleindex_add进行了相应修改！不截断，全部数据按照索引加上去！ \n",
    "\n",
    "\n",
    "\n",
    "## 测试报错test_replicas, Attr(axis) value should be in range [-R, R-1]\n",
    "```python\n",
    "======================================================================\n",
    "ERROR: test_paddlemd (__main__._TestPaddleMD) (system='test-data/4dihedrals/')\n",
    "----------------------------------------------------------------------\n",
    "Traceback (most recent call last):\n",
    "  File \"tests/test_paddlemd.py\", line 408, in test_paddlemd\n",
    "    system.pos, system.box, system.forces, returnDetails=True\n",
    "  File \"/code/6paper/PaddleMD/paddlemd/forces.py\", line 282, in compute\n",
    "    spos, self.par.impropers[:, 0:2], sbox\n",
    "  File \"/code/6paper/PaddleMD/paddlemd/forces.py\", line 421, in calculate_distances\n",
    "    dist = paddle.norm(direction_vec, axis=1)\n",
    "  File \"/opt/conda/lib/python3.6/site-packages/paddle/tensor/linalg.py\", line 436, in norm\n",
    "    name=name)\n",
    "  File \"/opt/conda/lib/python3.6/site-packages/paddle/tensor/linalg.py\", line 308, in vector_norm\n",
    "    'keepdim', keepdim, 'asvector', asvector)\n",
    "ValueError: (InvalidArgument) Attr(axis) value should be in range [-R, R-1], R is the rank of Input(X). But received axis: 1, R: 1. Current Input(X)'s shape is=[3].\n",
    "  [Hint: Expected axis < x_rank, but received axis:1 >= x_rank:1.] (at /paddle/paddle/phi/infermeta/unary.cc:1488)\n",
    "  [operator < p_norm > error]\n",
    "```\n",
    " value should be in range [-R, R-1], R is the rank of Input(X). But received axis: 1, R: 1. Current Input(X)'s shape is=[3].\n",
    "\n",
    "还是函数里面没弄好导致的，全部逻辑理顺，终于顺利测试完成了。（调哪个函数？ 为什么6.5日又出现了这个报错？ ）\n",
    "\n",
    "经跟踪发现，paddle.norm有时候会碰到1D数据，碰到1D数据就会报错。应该是前面处理部分有隐患。暂时先用1D转2D解决。\n",
    " \n",
    "相关代码\n",
    "```python\n",
    "\n",
    "def calculate_distances(atom_pos, atom_idx, box):\n",
    "#     print(f\"==calculate_distances {atom_pos, atom_idx, box}\")\n",
    "#     print(f\"==calculate_distances atom_pos, atom_idx, box:{atom_pos.shape, atom_idx.shape, box.shape}\")\n",
    "\n",
    "    direction_vec = wrap_dist(atom_pos[atom_idx[:, 0]] - atom_pos[atom_idx[:, 1]], box)\n",
    "    print(f\"==line 423 of forces direction_vec.shape:{direction_vec.shape}\")\n",
    "    dist = paddle.norm(direction_vec, axis=1)\n",
    "    direction_unitvec = direction_vec / dist.unsqueeze(1)\n",
    "    return dist, direction_unitvec, direction_vec\n",
    "```\n",
    "\n",
    " ## 测试的时候报错没有openmm\n",
    "发现pip安装的openmm不行，要用canda安装\n",
    "需要使用`conda install openmm -c conda-forge`\n",
    "且安装的时候会安装cuda\n",
    "\n",
    "\n",
    "## 先集中精力处理'Tensor' object has no attribute 'requires_grad'\n",
    "```\n",
    "======================================================================\n",
    "ERROR: test_replicas (__main__._TestPaddleMD)\n",
    "----------------------------------------------------------------------\n",
    "Traceback (most recent call last):\n",
    "  File \"tests/test_paddlemd.py\", line 517, in test_replicas\n",
    "    explicit_forces=False,\n",
    "  File \"/code/6paper/PaddleMD/paddlemd/forces.py\", line 386, in compute\n",
    "    if pot[i][ene].requires_grad:\n",
    "AttributeError: 'Tensor' object has no attribute 'requires_grad'\n",
    "\n",
    "----------------------------------------------------------------------\n",
    "Ran 2 tests in 423.041s\n",
    "\n",
    "FAILED (errors=7)\n",
    "```\n",
    "将requires_grad改成stop_gradient ，当然飞桨的语法是xx.stop_gradient=False\n",
    "问题解决之后，出现新的报错\n",
    "\n",
    "##   (PermissionDenied) Cannot set target var auto_1600864_@GRAD twice\n",
    "说实话，这是我印象里头一次碰到这样的报错\n",
    "报issue https://github.com/PaddlePaddle/Paddle/issues/43417\n",
    "```\n",
    "======================================================================\n",
    "ERROR: test_replicas (__main__._TestPaddleMD)\n",
    "----------------------------------------------------------------------\n",
    "Traceback (most recent call last):\n",
    "  File \"tests/test_paddlemd.py\", line 517, in test_replicas\n",
    "    explicit_forces=False,\n",
    "  File \"/code/6paper/PaddleMD/paddlemd/forces.py\", line 390, in compute\n",
    "    enesum, pos, only_inputs=True, retain_graph=True\n",
    "  File \"</opt/conda/lib/python3.6/site-packages/decorator.py:decorator-gen-49>\", line 2, in grad\n",
    "  File \"/opt/conda/lib/python3.6/site-packages/paddle/fluid/wrapped_decorator.py\", line 25, in __impl__\n",
    "    return wrapped_func(*args, **kwargs)\n",
    "  File \"/opt/conda/lib/python3.6/site-packages/paddle/fluid/framework.py\", line 434, in __impl__\n",
    "    return func(*args, **kwargs)\n",
    "  File \"/opt/conda/lib/python3.6/site-packages/paddle/fluid/dygraph/base.py\", line 663, in grad\n",
    "    retain_graph, allow_unused, only_inputs)\n",
    "RuntimeError: (PermissionDenied) Cannot set target var auto_1600864_@GRAD twice\n",
    "  [Hint: Expected ready_var.var == nullptr, but received ready_var.var != nullptr.] (at /paddle/paddle/fluid/imperative/partial_grad_engine.cc:508)\n",
    "```\n",
    "经了解，paddle.grad可能有些问题，不过我认为大概率还是自己的问题。 \n",
    "这个报错，是说不能设置变量两次？ 持续跟进中...\n",
    "\n",
    "## 测试前丙氨酸二肽报错\n",
    "```python\n",
    "  File \"/code/6paper/PaddleMD/bin/../paddlemd/run.py\", line 154, in <module>\n",
    "    mol, system, forces = setup(args)\n",
    "  File \"/code/6paper/PaddleMD/bin/../paddlemd/run.py\", line 113, in setup\n",
    "    forces = Forces(parameters, terms=args.forceterms, external=external, cutoff=args.cutoff, rfa=args.rfa, switch_dist=args.switch_dist, exclusions=args.exclusions)\n",
    "  File \"/code/6paper/PaddleMD/paddlemd/forces.py\", line 103, in __init__\n",
    "    'Set force terms or leave empty brackets [].\\nAvailable options: \"bonds\", \"angles\", \"dihedrals\", \"impropers\", \"1-4\", \"electrostatics\", \"lj\", \"repulsion\", \"repulsioncg\".'\n",
    "RuntimeError: Set force terms or leave empty brackets [].\n",
    "Available options: \"bonds\", \"angles\", \"dihedrals\", \"impropers\", \"1-4\", \"electrostatics\", \"lj\", \"repulsion\", \"repulsioncg\".\n",
    "```    \n",
    "把forces.py文件中修改成：\n",
    "```\n",
    "if terms is None: # 为了不报错，也是拼了。不过应该也是原作者的意图。\n",
    "            terms = self.terms\n",
    "```\n",
    "终于可以跑下去了。\n",
    "\n",
    "## 查看代码，发现有些地方二阶赋值没有修改\n",
    "比如这样的：pot[i][v] += E.sum()，进行了相应修改。\n",
    "```python\n",
    "#                     pot[i][\"electrostatics\"] += E.sum()\n",
    "                    tmp = pot[i]\n",
    "                    tmp[\"electrostatics\"] += E.sum()\n",
    "                    pot[i] = tmp\n",
    "```\n",
    "\n",
    "\n",
    "## 将报错的norm axis改为-1后报错\n",
    "```\n",
    "======================================================================\n",
    "ERROR: test_paddlemd (__main__._TestPaddleMD) (system='test-data/4dihedrals/')\n",
    "----------------------------------------------------------------------\n",
    "Traceback (most recent call last):\n",
    "  File \"tests/test_paddlemd.py\", line 408, in test_paddlemd\n",
    "    system.pos, system.box, system.forces, returnDetails=True\n",
    "  File \"/code/6paper/PaddleMD/paddlemd/forces.py\", line 313, in compute\n",
    "    r12, r23, r34, self.par.improper_params, explicit_forces\n",
    "  File \"/code/6paper/PaddleMD/paddlemd/forces.py\", line 642, in evaluate_torsion\n",
    "    crossA = paddle.cross(r12, r23, axis=1)\n",
    "  File \"/opt/conda/lib/python3.6/site-packages/paddle/tensor/linalg.py\", line 1182, in cross\n",
    "    return _C_ops.cross(x, y, 'dim', axis)\n",
    "IndexError: (OutOfRange) Attr(dim) is out of range, It's expected to be in range of [-1, 0]. But received Attr(dim) = 1.\n",
    "  [Hint: Expected dim < x_dim.size() && dim >= (0 - x_dim.size()) == true, but received dim < x_dim.size() && dim >= (0 - x_dim.size()):0 != true:1.] (at /paddle/paddle/phi/infermeta/binary.cc:750)\n",
    "  [operator < cross > error]\n",
    "```\n",
    "看了下，难道cross也改成axis=-1 ？有 太多需要修改了啊。关键不知道这样修改对不对啊！\n",
    "明天跟踪下，看看torchmd里面到底是咋回事，tensor到底是1维h还是2维？ \n",
    "\n",
    "经过测试，2d数据，把axis值从1改为-1 ，计算数值相同。且可以绕过1D数据报错的问题。\n",
    "当然，1d数据norm之后，就变成单个数值了。\n",
    "\n",
    "经过考虑，还是把1D数据reshape成2d数据解决。\n",
    "碰到下一个报错。\n",
    "\n",
    "## grad那个报错\n",
    "为了调试方便，重写了一个test，只测试报错的water，大大提高了调试速度\n",
    "python tests/test_paddlemd_water.py\n",
    "把测试文件里的全目录搜索，改成了water单目录。\n",
    "```\n",
    "    retain_graph, allow_unused, only_inputs)\n",
    "RuntimeError: (PermissionDenied) Cannot set target var auto_1600864_@GRAD twice\n",
    "  [Hint: Expected ready_var.var == nullptr, but received ready_var.var != nullptr.] (at /paddle/paddle/fluid/imperative/partial_grad_engine.cc:508)\n",
    "```\n",
    "不明白为什么会报这个错，好像是目标变量不能自动grad两次...\n",
    "还是paddle.auto_grad.grad这句话报错。\n",
    "\n",
    "将这句话屏蔽后，能继续跑下去，但是会碰到新的报错：\n",
    "\n",
    "## Found NaN coordinates.\n",
    "```\n",
    "======================================================================\n",
    "ERROR: test_paddlemd (__main__._TestPaddleMD) (system='test-data/prod_alanine_dipeptide_amber/')\n",
    "----------------------------------------------------------------------\n",
    "Traceback (most recent call last):\n",
    "  File \"tests/test_paddlemd.py\", line 415, in test_paddlemd\n",
    "    system.pos, system.box, system.forces, returnDetails=True\n",
    "  File \"/code/6paper/PaddleMD/paddlemd/forces.py\", line 148, in compute\n",
    "    raise RuntimeError(\"Found NaN coordinates.\")\n",
    "RuntimeError: Found NaN coordinates.\n",
    "```\n",
    "这样还是不行。看来不能这样处理，暂时是无法解决集成测试的问题了。\n",
    "\n"
   ]
  },
  {
   "cell_type": "markdown",
   "metadata": {},
   "source": [
    "# 总结和记录\n",
    "## openmm\n",
    "我们一般conda安装就是直接输入命令`conda install openmm`\n",
    "\n",
    "6.4日测试时，发现需要带参数`conda install openmm -c conda-forge`，并且注意到安装的时候会安装cuda\n",
    "\n",
    "## 解决报错,把torch里面的requires_grad改成飞桨里的stop_gradient\n",
    "\n",
    "# 临时调试信息"
   ]
  },
  {
   "cell_type": "code",
   "execution_count": 10,
   "metadata": {},
   "outputs": [
    {
     "name": "stdout",
     "output_type": "stream",
     "text": [
      "Tensor(shape=[2, 3], dtype=float64, place=Place(gpu:0), stop_gradient=True,\n",
      "       [[ 0.78369857, -1.16356505,  0.76762212],\n",
      "        [ 1.44171350, -0.14697054,  0.07857292]])\n",
      "Tensor(shape=[3], dtype=float64, place=Place(gpu:0), stop_gradient=True,\n",
      "       [ 0.78369857, -1.16356505,  0.76762212])\n"
     ]
    }
   ],
   "source": [
    "import paddle\n",
    "box = paddle.to_tensor(a)\n",
    "box = box*paddle.eye(3)\n",
    "box = box.sum(1)\n",
    "print(box)\n",
    "box = paddle.to_tensor(a)\n",
    "sbox = box[i][paddle.eye(3).astype(paddle.bool)]\n",
    "print(sbox)\n",
    "# box[:][paddle.eye(3).astype(paddle.bool)]\n",
    "# print(box)"
   ]
  },
  {
   "cell_type": "code",
   "execution_count": 11,
   "metadata": {},
   "outputs": [
    {
     "name": "stdout",
     "output_type": "stream",
     "text": [
      "Tensor(shape=[2, 3], dtype=float64, place=Place(gpu:0), stop_gradient=True,\n",
      "       [[ 0.78369857, -1.16356505,  0.76762212],\n",
      "        [ 1.44171350, -0.14697054,  0.07857292]])\n"
     ]
    }
   ],
   "source": [
    "# box = box[:, torch.eye(3).bool()]\n",
    "box = box*paddle.eye(3)\n",
    "box = box.sum(1)\n",
    "print(box)"
   ]
  },
  {
   "cell_type": "code",
   "execution_count": 7,
   "metadata": {},
   "outputs": [
    {
     "ename": "ValueError",
     "evalue": "(InvalidArgument) Currently, Tensor.__indices__() only allows indexing by Integers, Slices, Ellipsis, None, tuples of these types and list of Bool and Integers, but received Tensor in 1th slice item (at /paddle/paddle/fluid/pybind/slice_utils.h:279)\n",
     "output_type": "error",
     "traceback": [
      "\u001b[0;31m---------------------------------------------------------------------------\u001b[0m",
      "\u001b[0;31mValueError\u001b[0m                                Traceback (most recent call last)",
      "\u001b[0;32m<ipython-input-7-44eef7e961a0>\u001b[0m in \u001b[0;36m<module>\u001b[0;34m\u001b[0m\n\u001b[0;32m----> 1\u001b[0;31m \u001b[0msbox\u001b[0m \u001b[0;34m=\u001b[0m \u001b[0mbox\u001b[0m\u001b[0;34m[\u001b[0m\u001b[0mi\u001b[0m\u001b[0;34m]\u001b[0m\u001b[0;34m[\u001b[0m\u001b[0mtorch\u001b[0m\u001b[0;34m.\u001b[0m\u001b[0meye\u001b[0m\u001b[0;34m(\u001b[0m\u001b[0;36m3\u001b[0m\u001b[0;34m)\u001b[0m\u001b[0;34m.\u001b[0m\u001b[0mbool\u001b[0m\u001b[0;34m(\u001b[0m\u001b[0;34m)\u001b[0m\u001b[0;34m]\u001b[0m\u001b[0;34m\u001b[0m\u001b[0;34m\u001b[0m\u001b[0m\n\u001b[0m",
      "\u001b[0;32m/opt/conda/lib/python3.6/site-packages/paddle/fluid/dygraph/varbase_patch_methods.py\u001b[0m in \u001b[0;36m__getitem__\u001b[0;34m(self, item)\u001b[0m\n\u001b[1;32m    737\u001b[0m         \u001b[0;32melse\u001b[0m\u001b[0;34m:\u001b[0m\u001b[0;34m\u001b[0m\u001b[0;34m\u001b[0m\u001b[0m\n\u001b[1;32m    738\u001b[0m             \u001b[0;31m# 2. Call c++ func getitem_index_not_tensor to speedup.\u001b[0m\u001b[0;34m\u001b[0m\u001b[0;34m\u001b[0m\u001b[0;34m\u001b[0m\u001b[0m\n\u001b[0;32m--> 739\u001b[0;31m             \u001b[0;32mreturn\u001b[0m \u001b[0mself\u001b[0m\u001b[0;34m.\u001b[0m\u001b[0m_getitem_index_not_tensor\u001b[0m\u001b[0;34m(\u001b[0m\u001b[0mitem\u001b[0m\u001b[0;34m)\u001b[0m\u001b[0;34m\u001b[0m\u001b[0;34m\u001b[0m\u001b[0m\n\u001b[0m\u001b[1;32m    740\u001b[0m \u001b[0;34m\u001b[0m\u001b[0m\n\u001b[1;32m    741\u001b[0m     \u001b[0;32mdef\u001b[0m \u001b[0m__setitem__\u001b[0m\u001b[0;34m(\u001b[0m\u001b[0mself\u001b[0m\u001b[0;34m,\u001b[0m \u001b[0mitem\u001b[0m\u001b[0;34m,\u001b[0m \u001b[0mvalue\u001b[0m\u001b[0;34m)\u001b[0m\u001b[0;34m:\u001b[0m\u001b[0;34m\u001b[0m\u001b[0;34m\u001b[0m\u001b[0m\n",
      "\u001b[0;31mValueError\u001b[0m: (InvalidArgument) Currently, Tensor.__indices__() only allows indexing by Integers, Slices, Ellipsis, None, tuples of these types and list of Bool and Integers, but received Tensor in 1th slice item (at /paddle/paddle/fluid/pybind/slice_utils.h:279)\n"
     ]
    }
   ],
   "source": [
    "sbox = box[i][torch.eye(3).bool()]"
   ]
  },
  {
   "cell_type": "code",
   "execution_count": 32,
   "metadata": {},
   "outputs": [
    {
     "ename": "IndexError",
     "evalue": "too many indices for tensor of dimension 1",
     "output_type": "error",
     "traceback": [
      "\u001b[0;31m---------------------------------------------------------------------------\u001b[0m",
      "\u001b[0;31mIndexError\u001b[0m                                Traceback (most recent call last)",
      "\u001b[0;32m<ipython-input-32-a52227f72273>\u001b[0m in \u001b[0;36m<module>\u001b[0;34m\u001b[0m\n\u001b[1;32m      3\u001b[0m \u001b[0;32mfor\u001b[0m \u001b[0mr\u001b[0m \u001b[0;32min\u001b[0m \u001b[0mrange\u001b[0m\u001b[0;34m(\u001b[0m\u001b[0mbox\u001b[0m\u001b[0;34m.\u001b[0m\u001b[0mshape\u001b[0m\u001b[0;34m[\u001b[0m\u001b[0;36m0\u001b[0m\u001b[0;34m]\u001b[0m\u001b[0;34m)\u001b[0m\u001b[0;34m:\u001b[0m\u001b[0;34m\u001b[0m\u001b[0;34m\u001b[0m\u001b[0m\n\u001b[1;32m      4\u001b[0m     selfbox[r][torch.eye(3).bool()] = torch.tensor(\n\u001b[0;32m----> 5\u001b[0;31m         box[r], dtype=selfbox.dtype)\n\u001b[0m\u001b[1;32m      6\u001b[0m \u001b[0mprint\u001b[0m\u001b[0;34m(\u001b[0m\u001b[0mselfbox\u001b[0m \u001b[0;34m)\u001b[0m\u001b[0;34m\u001b[0m\u001b[0;34m\u001b[0m\u001b[0m\n",
      "\u001b[0;31mIndexError\u001b[0m: too many indices for tensor of dimension 1"
     ]
    }
   ],
   "source": [
    "selfbox = ta\n",
    "box = a\n",
    "for r in range(box.shape[0]):\n",
    "    selfbox[r][torch.eye(3).bool()] = torch.tensor(\n",
    "        box[r], dtype=selfbox.dtype)\n",
    "print(selfbox )            "
   ]
  },
  {
   "cell_type": "code",
   "execution_count": 33,
   "metadata": {},
   "outputs": [
    {
     "ename": "IndexError",
     "evalue": "too many indices for tensor of dimension 1",
     "output_type": "error",
     "traceback": [
      "\u001b[0;31m---------------------------------------------------------------------------\u001b[0m",
      "\u001b[0;31mIndexError\u001b[0m                                Traceback (most recent call last)",
      "\u001b[0;32m<ipython-input-33-8ce042bf456a>\u001b[0m in \u001b[0;36m<module>\u001b[0;34m\u001b[0m\n\u001b[1;32m      1\u001b[0m selfbox[0][torch.eye(3).bool()] = torch.tensor(\n\u001b[0;32m----> 2\u001b[0;31m         box[0], dtype=selfbox.dtype)\n\u001b[0m",
      "\u001b[0;31mIndexError\u001b[0m: too many indices for tensor of dimension 1"
     ]
    }
   ],
   "source": [
    "selfbox[0][torch.eye(3).bool()] = torch.tensor(\n",
    "        box[0], dtype=selfbox.dtype)"
   ]
  },
  {
   "cell_type": "code",
   "execution_count": null,
   "metadata": {},
   "outputs": [],
   "source": []
  },
  {
   "cell_type": "code",
   "execution_count": 28,
   "metadata": {},
   "outputs": [
    {
     "name": "stdout",
     "output_type": "stream",
     "text": [
      "Tensor(shape=[2, 3, 3], dtype=float64, place=Place(gpu:0), stop_gradient=True,\n",
      "       [[[-0.35666844,  0.        ,  0.        ],\n",
      "         [ 0.        ,  0.95460963,  0.        ],\n",
      "         [ 0.        ,  0.        , -0.24597028]],\n",
      "\n",
      "        [[ 0.11340753,  0.        ,  0.        ],\n",
      "         [ 0.        ,  0.38805964,  0.        ],\n",
      "         [ 0.        ,  0.        , -0.46283856]]])\n"
     ]
    }
   ],
   "source": [
    "selfbox = paddle.to_tensor(a)\n",
    "for r in range(box.shape[0]):\n",
    "#             self.box[r][paddle.eye(3).astype(paddle.bool)] = paddle.to_tensor(\n",
    "#                 box[r], dtype=self.box.dtype)\n",
    "    selfbox[r] = paddle.to_tensor(\n",
    "        box[r], dtype=selfbox.dtype) * paddle.eye(3).astype(paddle.bool)\n",
    "print(selfbox)"
   ]
  },
  {
   "cell_type": "code",
   "execution_count": 34,
   "metadata": {},
   "outputs": [
    {
     "ename": "ValueError",
     "evalue": "(InvalidArgument) fill_constant(): argument (position 6) must be float, but got numpy.ndarray (at /paddle/paddle/fluid/pybind/op_function_common.cc:189)\n",
     "output_type": "error",
     "traceback": [
      "\u001b[0;31m---------------------------------------------------------------------------\u001b[0m",
      "\u001b[0;31mValueError\u001b[0m                                Traceback (most recent call last)",
      "\u001b[0;32m<ipython-input-34-8a8e62bfd501>\u001b[0m in \u001b[0;36m<module>\u001b[0;34m\u001b[0m\n\u001b[0;32m----> 1\u001b[0;31m \u001b[0mtmp\u001b[0m \u001b[0;34m=\u001b[0m \u001b[0mbox\u001b[0m\u001b[0;34m*\u001b[0m\u001b[0mpaddle\u001b[0m\u001b[0;34m.\u001b[0m\u001b[0meye\u001b[0m\u001b[0;34m(\u001b[0m\u001b[0;36m3\u001b[0m\u001b[0;34m)\u001b[0m\u001b[0;34m\u001b[0m\u001b[0;34m\u001b[0m\u001b[0m\n\u001b[0m",
      "\u001b[0;32m/opt/conda/lib/python3.6/site-packages/paddle/fluid/dygraph/math_op_patch.py\u001b[0m in \u001b[0;36m__impl__\u001b[0;34m(self, other_var)\u001b[0m\n\u001b[1;32m    256\u001b[0m                         \u001b[0;31m# add fill_op\u001b[0m\u001b[0;34m\u001b[0m\u001b[0;34m\u001b[0m\u001b[0;34m\u001b[0m\u001b[0m\n\u001b[1;32m    257\u001b[0m                         other_var = create_scalar(\n\u001b[0;32m--> 258\u001b[0;31m                             value=other_var, dtype=lhs_dtype)\n\u001b[0m\u001b[1;32m    259\u001b[0m \u001b[0;34m\u001b[0m\u001b[0m\n\u001b[1;32m    260\u001b[0m             \u001b[0;31m# 3. promote types or unify right var type to left var\u001b[0m\u001b[0;34m\u001b[0m\u001b[0;34m\u001b[0m\u001b[0;34m\u001b[0m\u001b[0m\n",
      "\u001b[0;32m/opt/conda/lib/python3.6/site-packages/paddle/fluid/dygraph/math_op_patch.py\u001b[0m in \u001b[0;36mcreate_scalar\u001b[0;34m(value, dtype)\u001b[0m\n\u001b[1;32m     88\u001b[0m \u001b[0;34m\u001b[0m\u001b[0m\n\u001b[1;32m     89\u001b[0m     \u001b[0;32mdef\u001b[0m \u001b[0mcreate_scalar\u001b[0m\u001b[0;34m(\u001b[0m\u001b[0mvalue\u001b[0m\u001b[0;34m,\u001b[0m \u001b[0mdtype\u001b[0m\u001b[0;34m)\u001b[0m\u001b[0;34m:\u001b[0m\u001b[0;34m\u001b[0m\u001b[0;34m\u001b[0m\u001b[0m\n\u001b[0;32m---> 90\u001b[0;31m         \u001b[0;32mreturn\u001b[0m \u001b[0mcreate_tensor\u001b[0m\u001b[0;34m(\u001b[0m\u001b[0mvalue\u001b[0m\u001b[0;34m,\u001b[0m \u001b[0mdtype\u001b[0m\u001b[0;34m,\u001b[0m \u001b[0mshape\u001b[0m\u001b[0;34m=\u001b[0m\u001b[0;34m[\u001b[0m\u001b[0;36m1\u001b[0m\u001b[0;34m]\u001b[0m\u001b[0;34m)\u001b[0m\u001b[0;34m\u001b[0m\u001b[0;34m\u001b[0m\u001b[0m\n\u001b[0m\u001b[1;32m     91\u001b[0m \u001b[0;34m\u001b[0m\u001b[0m\n\u001b[1;32m     92\u001b[0m     \u001b[0;32mdef\u001b[0m \u001b[0mastype\u001b[0m\u001b[0;34m(\u001b[0m\u001b[0mself\u001b[0m\u001b[0;34m,\u001b[0m \u001b[0mdtype\u001b[0m\u001b[0;34m)\u001b[0m\u001b[0;34m:\u001b[0m\u001b[0;34m\u001b[0m\u001b[0;34m\u001b[0m\u001b[0m\n",
      "\u001b[0;32m</opt/conda/lib/python3.6/site-packages/decorator.py:decorator-gen-278>\u001b[0m in \u001b[0;36mcreate_tensor\u001b[0;34m(value, dtype, shape)\u001b[0m\n",
      "\u001b[0;32m/opt/conda/lib/python3.6/site-packages/paddle/fluid/dygraph/base.py\u001b[0m in \u001b[0;36m__impl__\u001b[0;34m(func, *args, **kwargs)\u001b[0m\n\u001b[1;32m    297\u001b[0m         \u001b[0;32mdef\u001b[0m \u001b[0m__impl__\u001b[0m\u001b[0;34m(\u001b[0m\u001b[0mfunc\u001b[0m\u001b[0;34m,\u001b[0m \u001b[0;34m*\u001b[0m\u001b[0margs\u001b[0m\u001b[0;34m,\u001b[0m \u001b[0;34m**\u001b[0m\u001b[0mkwargs\u001b[0m\u001b[0;34m)\u001b[0m\u001b[0;34m:\u001b[0m\u001b[0;34m\u001b[0m\u001b[0;34m\u001b[0m\u001b[0m\n\u001b[1;32m    298\u001b[0m             \u001b[0;32mwith\u001b[0m \u001b[0m_switch_tracer_mode_guard_\u001b[0m\u001b[0;34m(\u001b[0m\u001b[0mis_train\u001b[0m\u001b[0;34m=\u001b[0m\u001b[0;32mFalse\u001b[0m\u001b[0;34m)\u001b[0m\u001b[0;34m:\u001b[0m\u001b[0;34m\u001b[0m\u001b[0;34m\u001b[0m\u001b[0m\n\u001b[0;32m--> 299\u001b[0;31m                 \u001b[0;32mreturn\u001b[0m \u001b[0mfunc\u001b[0m\u001b[0;34m(\u001b[0m\u001b[0;34m*\u001b[0m\u001b[0margs\u001b[0m\u001b[0;34m,\u001b[0m \u001b[0;34m**\u001b[0m\u001b[0mkwargs\u001b[0m\u001b[0;34m)\u001b[0m\u001b[0;34m\u001b[0m\u001b[0;34m\u001b[0m\u001b[0m\n\u001b[0m\u001b[1;32m    300\u001b[0m \u001b[0;34m\u001b[0m\u001b[0m\n\u001b[1;32m    301\u001b[0m         \u001b[0;32mreturn\u001b[0m \u001b[0m__impl__\u001b[0m\u001b[0;34m(\u001b[0m\u001b[0mfunc\u001b[0m\u001b[0;34m)\u001b[0m\u001b[0;34m\u001b[0m\u001b[0;34m\u001b[0m\u001b[0m\n",
      "\u001b[0;32m/opt/conda/lib/python3.6/site-packages/paddle/fluid/dygraph/math_op_patch.py\u001b[0m in \u001b[0;36mcreate_tensor\u001b[0;34m(value, dtype, shape)\u001b[0m\n\u001b[1;32m     83\u001b[0m         \u001b[0mout\u001b[0m \u001b[0;34m=\u001b[0m \u001b[0m_varbase_creator\u001b[0m\u001b[0;34m(\u001b[0m\u001b[0mdtype\u001b[0m\u001b[0;34m=\u001b[0m\u001b[0mdtype\u001b[0m\u001b[0;34m)\u001b[0m\u001b[0;34m\u001b[0m\u001b[0;34m\u001b[0m\u001b[0m\n\u001b[1;32m     84\u001b[0m         out = _C_ops.fill_constant(out, 'dtype', dtype, 'shape', shape, 'value',\n\u001b[0;32m---> 85\u001b[0;31m                                    value, 'force_cpu', False)\n\u001b[0m\u001b[1;32m     86\u001b[0m         \u001b[0mout\u001b[0m\u001b[0;34m.\u001b[0m\u001b[0mstop_gradient\u001b[0m \u001b[0;34m=\u001b[0m \u001b[0;32mTrue\u001b[0m\u001b[0;34m\u001b[0m\u001b[0;34m\u001b[0m\u001b[0m\n\u001b[1;32m     87\u001b[0m         \u001b[0;32mreturn\u001b[0m \u001b[0mout\u001b[0m\u001b[0;34m\u001b[0m\u001b[0;34m\u001b[0m\u001b[0m\n",
      "\u001b[0;31mValueError\u001b[0m: (InvalidArgument) fill_constant(): argument (position 6) must be float, but got numpy.ndarray (at /paddle/paddle/fluid/pybind/op_function_common.cc:189)\n"
     ]
    }
   ],
   "source": [
    "# tmp = box*paddle.eye(3)"
   ]
  },
  {
   "cell_type": "markdown",
   "metadata": {},
   "source": [
    "## 飞桨grad例子\n"
   ]
  },
  {
   "cell_type": "code",
   "execution_count": 8,
   "metadata": {},
   "outputs": [
    {
     "name": "stdout",
     "output_type": "stream",
     "text": [
      "Tensor(shape=[1, 2], dtype=float32, place=Place(gpu:0), stop_gradient=False,\n",
      "       [[1., 1.]])\n",
      "==dx:Tensor(shape=[1, 2], dtype=float32, place=Place(gpu:0), stop_gradient=True,\n",
      "       [[2., 2.]])\n",
      "[[2. 2.]]\n",
      "Tensor(shape=[1, 2], dtype=float32, place=Place(gpu:0), stop_gradient=False,\n",
      "       [[1., 1.]])\n",
      "==dx:Tensor(shape=[1, 2], dtype=float32, place=Place(gpu:0), stop_gradient=False,\n",
      "       [[2., 2.]])\n",
      "[[4. 4.]]\n"
     ]
    }
   ],
   "source": [
    "import paddle\n",
    "\n",
    "def test_dygraph_grad(create_graph):\n",
    "    x = paddle.ones(shape=[1,2], dtype='float32')\n",
    "    x.stop_gradient = False\n",
    "    y = x * x\n",
    "    print(y)\n",
    "\n",
    "    # Since y = x * x, dx = 2 * x\n",
    "    dx = paddle.grad(\n",
    "            outputs=[y],\n",
    "            inputs=[x],\n",
    "            create_graph=create_graph,\n",
    "            retain_graph=True)[0]\n",
    "    print(f\"==dx:{dx}\")\n",
    "    z = y + dx\n",
    "\n",
    "    # If create_graph = False, the gradient of dx\n",
    "    # would not be backpropagated. Therefore,\n",
    "    # z = x * x + dx, and x.gradient() = 2 * x = 2.0\n",
    "\n",
    "    # If create_graph = True, the gradient of dx\n",
    "    # would be backpropagated. Therefore,\n",
    "    # z = x * x + dx = x * x + 2 * x, and\n",
    "    # x.gradient() = 2 * x + 2 = 4.0\n",
    "\n",
    "    z.backward()\n",
    "    return x.gradient()\n",
    "\n",
    "print(test_dygraph_grad(create_graph=False)) # [2.]\n",
    "print(test_dygraph_grad(create_graph=True)) # [4.]\n"
   ]
  },
  {
   "cell_type": "code",
   "execution_count": 9,
   "metadata": {},
   "outputs": [
    {
     "name": "stdout",
     "output_type": "stream",
     "text": [
      "[7.]\n",
      "[16.]\n",
      "[19.]\n",
      "[24.]\n"
     ]
    }
   ],
   "source": [
    "import paddle\n",
    "\n",
    "def test_dygraph_grad(grad_outputs=None):\n",
    "    x = paddle.to_tensor(2.0)\n",
    "    x.stop_gradient = False\n",
    "\n",
    "    y1 = x * x\n",
    "    y2 = x * 3\n",
    "\n",
    "    # If grad_outputs=None, dy1 = [1], dy2 = [1].\n",
    "    # If grad_outputs=[g1, g2], then:\n",
    "    #    - dy1 = [1] if g1 is None else g1\n",
    "    #    - dy2 = [1] if g2 is None else g2\n",
    "\n",
    "    # Since y1 = x * x, dx = 2 * x * dy1.\n",
    "    # Since y2 = x * 3, dx = 3 * dy2.\n",
    "    # Therefore, the final result would be:\n",
    "    # dx = 2 * x * dy1 + 3 * dy2 = 4 * dy1 + 3 * dy2.\n",
    "\n",
    "    dx = paddle.grad(\n",
    "        outputs=[y1, y2],\n",
    "        inputs=[x],\n",
    "        grad_outputs=grad_outputs)[0]\n",
    "\n",
    "    return dx.numpy()\n",
    "\n",
    "grad_value = paddle.to_tensor(4.0)\n",
    "\n",
    "# dy1 = [1], dy2 = [1]\n",
    "print(test_dygraph_grad(None)) # [7.]\n",
    "\n",
    "# dy1 = [1], dy2 = [4]\n",
    "print(test_dygraph_grad([None, grad_value])) # [16.]\n",
    "\n",
    "# dy1 = [4], dy2 = [1]\n",
    "print(test_dygraph_grad([grad_value, None])) # [19.]\n",
    "\n",
    "# dy1 = [3], dy2 = [4]\n",
    "grad_y1 = paddle.to_tensor(3.0)\n",
    "print(test_dygraph_grad([grad_y1, grad_value])) # [24.]\n"
   ]
  },
  {
   "cell_type": "code",
   "execution_count": 15,
   "metadata": {},
   "outputs": [
    {
     "name": "stdout",
     "output_type": "stream",
     "text": [
      "terms:None\n",
      "terms:['bonds', 'angles', 'dihedrals', 'impropers', '1-4', 'electrostatics', 'lj', 'repulsion', 'repulsioncg']\n"
     ]
    }
   ],
   "source": [
    "class Forces:\n",
    "    # 1-4 is nonbonded but we put it currently in bonded to not calculate all distances\n",
    "    bonded = [\"bonds\", \"angles\", \"dihedrals\", \"impropers\", \"1-4\"]\n",
    "    nonbonded = [\"electrostatics\", \"lj\", \"repulsion\", \"repulsioncg\"]\n",
    "    terms = bonded + nonbonded\n",
    "    def __init__(\n",
    "        self,\n",
    "        terms=None):\n",
    "        print(f\"terms:{terms}\")\n",
    "        if terms is None:\n",
    "            terms = self.terms\n",
    "        print(f\"terms:{terms}\")\n",
    "test = Forces()"
   ]
  },
  {
   "cell_type": "code",
   "execution_count": 3,
   "metadata": {},
   "outputs": [],
   "source": [
    "!cp /opt/conda/lib/python3.6/site-packages/paddle/tensor/linalg.py /code/tmp"
   ]
  },
  {
   "cell_type": "code",
   "execution_count": 6,
   "metadata": {},
   "outputs": [
    {
     "name": "stdout",
     "output_type": "stream",
     "text": [
      "pandas                        0.24.2      \n"
     ]
    }
   ],
   "source": [
    "!pip list |grep pandas\n"
   ]
  },
  {
   "cell_type": "code",
   "execution_count": 7,
   "metadata": {},
   "outputs": [
    {
     "name": "stdout",
     "output_type": "stream",
     "text": [
      "Collecting pandas<=1.29\n",
      "\u001b[?25l  Downloading https://files.pythonhosted.org/packages/c3/e2/00cacecafbab071c787019f00ad84ca3185952f6bb9bca9550ed83870d4d/pandas-1.1.5-cp36-cp36m-manylinux1_x86_64.whl (9.5MB)\n",
      "\u001b[K     |████████████████████████████████| 9.5MB 868kB/s eta 0:00:01\n",
      "\u001b[?25hRequirement already satisfied, skipping upgrade: pytz>=2017.2 in /opt/conda/lib/python3.6/site-packages (from pandas<=1.29) (2019.2)\n",
      "Requirement already satisfied, skipping upgrade: python-dateutil>=2.7.3 in /opt/conda/lib/python3.6/site-packages (from pandas<=1.29) (2.8.0)\n",
      "Requirement already satisfied, skipping upgrade: numpy>=1.15.4 in /opt/conda/lib/python3.6/site-packages (from pandas<=1.29) (1.17.2)\n",
      "Requirement already satisfied, skipping upgrade: six>=1.5 in /opt/conda/lib/python3.6/site-packages (from python-dateutil>=2.7.3->pandas<=1.29) (1.12.0)\n",
      "Installing collected packages: pandas\n",
      "  Found existing installation: pandas 0.24.2\n",
      "    Uninstalling pandas-0.24.2:\n",
      "      Successfully uninstalled pandas-0.24.2\n",
      "Successfully installed pandas-1.1.5\n"
     ]
    }
   ],
   "source": [
    "!pip install 'pandas<=1.29' -U"
   ]
  },
  {
   "cell_type": "code",
   "execution_count": 12,
   "metadata": {},
   "outputs": [
    {
     "name": "stdout",
     "output_type": "stream",
     "text": [
      "line 411 pot[{'external': 2, 'a': 4}, {'external': 2, 'a': 4}]\n",
      "line 413 pot[{'external': 4, 'a': 4}, {'external': 4, 'a': 4}]\n"
     ]
    }
   ],
   "source": [
    "a = {\"external\": 2, \"a\":4}\n",
    "c = [a, a ]\n",
    "pot = c\n",
    "s = 0 \n",
    "\n",
    "print(f\"line 411 pot{pot}\")\n",
    "pot[s][\"external\"] += 2\n",
    "print(f\"line 413 pot{pot}\")"
   ]
  },
  {
   "cell_type": "code",
   "execution_count": 10,
   "metadata": {},
   "outputs": [
    {
     "data": {
      "text/plain": [
       "1"
      ]
     },
     "execution_count": 10,
     "metadata": {},
     "output_type": "execute_result"
    }
   ],
   "source": [
    "1"
   ]
  },
  {
   "cell_type": "code",
   "execution_count": null,
   "metadata": {},
   "outputs": [],
   "source": []
  }
 ],
 "metadata": {
  "kernelspec": {
   "display_name": "Python 3",
   "language": "python",
   "name": "python3"
  },
  "language_info": {
   "codemirror_mode": {
    "name": "ipython",
    "version": 3
   },
   "file_extension": ".py",
   "mimetype": "text/x-python",
   "name": "python",
   "nbconvert_exporter": "python",
   "pygments_lexer": "ipython3",
   "version": "3.6.9"
  }
 },
 "nbformat": 4,
 "nbformat_minor": 4
}
