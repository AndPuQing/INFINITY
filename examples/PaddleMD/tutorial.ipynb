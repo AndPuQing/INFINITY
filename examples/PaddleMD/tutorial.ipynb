{
 "cells": [
  {
   "cell_type": "markdown",
   "metadata": {},
   "source": [
    "# PaddleMD API tutorial"
   ]
  },
  {
   "cell_type": "markdown",
   "metadata": {},
   "source": [
    "## System setup"
   ]
  },
  {
   "cell_type": "markdown",
   "metadata": {},
   "source": [
    "We use the `moleculekit` library for reading the input topologies and starting coordinates"
   ]
  },
  {
   "cell_type": "code",
   "execution_count": 1,
   "metadata": {},
   "outputs": [],
   "source": [
    "from moleculekit.molecule import Molecule\n",
    "import os\n",
    "\n",
    "testdir = \"./test-data/prod_alanine_dipeptide_amber/\"\n",
    "mol = Molecule(os.path.join(testdir, \"structure.prmtop\"))  # Reading the system topology\n",
    "mol.read(os.path.join(testdir, \"input.coor\"))  # Reading the initial simulation coordinates\n",
    "mol.read(os.path.join(testdir, \"input.xsc\"))  # Reading the box dimensions"
   ]
  },
  {
   "cell_type": "markdown",
   "metadata": {},
   "source": [
    "Next we will load a forcefield file and use the above topology to extract the relevant parameters which will be used for the simulation"
   ]
  },
  {
   "cell_type": "code",
   "execution_count": 2,
   "metadata": {},
   "outputs": [
    {
     "name": "stderr",
     "output_type": "stream",
     "text": [
      "2022-06-05 11:10:39,119 - root - WARNING - Warning: importing 'simtk.openmm' is deprecated.  Import 'openmm' instead.\n"
     ]
    }
   ],
   "source": [
    "from paddlemd.forcefields.forcefield import ForceField\n",
    "from paddlemd.parameters import Parameters\n",
    "import paddle\n",
    "\n",
    "precision = paddle.float32\n",
    "# device = \"cuda:0\"\n",
    "\n",
    "ff = ForceField.create(mol, os.path.join(testdir, \"structure.prmtop\"))\n",
    "parameters = Parameters(ff, mol, precision=precision)"
   ]
  },
  {
   "cell_type": "markdown",
   "metadata": {},
   "source": [
    "Now we can create a `System` object which will contain the state of the system during the simulation, including:\n",
    "1. The current atom coordinates\n",
    "1. The current box size\n",
    "1. The current atom velocities\n",
    "1. The current atom forces"
   ]
  },
  {
   "cell_type": "code",
   "execution_count": 3,
   "metadata": {},
   "outputs": [
    {
     "name": "stderr",
     "output_type": "stream",
     "text": [
      "/opt/conda/lib/python3.6/site-packages/paddle/fluid/dygraph/math_op_patch.py:278: UserWarning: The dtype of left and right variables are not the same, left dtype is paddle.float32, but right dtype is paddle.bool, the right dtype will convert to paddle.float32\n",
      "  format(lhs_dtype, rhs_dtype, lhs_dtype))\n"
     ]
    }
   ],
   "source": [
    "from paddlemd.integrator import maxwell_boltzmann\n",
    "from paddlemd.systems import System\n",
    "\n",
    "system = System(mol.numAtoms, nreplicas=1, precision=precision)\n",
    "system.set_positions(mol.coords)\n",
    "system.set_box(mol.box)\n",
    "system.set_velocities(maxwell_boltzmann(parameters.masses, T=300, replicas=1))"
   ]
  },
  {
   "cell_type": "markdown",
   "metadata": {},
   "source": [
    "Lastly we will create a `Force` object which will be used to evaluate the potential on a given `System` state"
   ]
  },
  {
   "cell_type": "code",
   "execution_count": 4,
   "metadata": {},
   "outputs": [
    {
     "name": "stdout",
     "output_type": "stream",
     "text": [
      "[{'bonds': 3.957756519317627, 'angles': 2.844571113586426, 'dihedrals': 10.57987117767334, 'impropers': 1.2417094707489014, '1-4': 0.0, 'external': 0.0}]\n",
      "Tensor(shape=[1, 688, 3], dtype=float32, place=Place(gpu:0), stop_gradient=True,\n",
      "       [[[ 3.20194221 ,  1.40353131 ,  3.54008961 ],\n",
      "         [-20.73697662, -18.31974411,  9.39755249 ],\n",
      "         [ 1.86052597 ,  4.54450178 , -4.52474356 ],\n",
      "         ...,\n",
      "         [ 0.00015092 ,  0.00010121 ,  0.00010221 ],\n",
      "         [-0.00021580 , -0.00019182 , -0.00024192 ],\n",
      "         [ 0.00006488 ,  0.00009061 ,  0.00013972 ]]])\n"
     ]
    }
   ],
   "source": [
    "from paddlemd.forces import Forces\n",
    "bonded = [\"bonds\", \"angles\", \"dihedrals\", \"impropers\", \"1-4\"]\n",
    "# bonded = [\"dihedrals\"]\n",
    "# forces = Forces(parameters, cutoff=9, rfa=True, switch_dist=7.5)\n",
    "forces = Forces(parameters, cutoff=9, rfa=True, switch_dist=7.5, terms=bonded)\n",
    "# Evaluate current energy and forces. Forces are modified in-place\n",
    "Epot = forces.compute(system.pos, system.box, system.forces, returnDetails=True)\n",
    "\n",
    "print(Epot)\n",
    "print(system.forces)"
   ]
  },
  {
   "cell_type": "markdown",
   "metadata": {},
   "source": [
    "## Dynamics"
   ]
  },
  {
   "cell_type": "markdown",
   "metadata": {},
   "source": [
    "For performing the dynamics we will create an `Integrator` object for integrating the time steps of the simulation as well as a `Wrapper` object for wrapping the system coordinates within the periodic cell"
   ]
  },
  {
   "cell_type": "code",
   "execution_count": 5,
   "metadata": {},
   "outputs": [],
   "source": [
    "from paddlemd.integrator import Integrator\n",
    "from paddlemd.wrapper import Wrapper\n",
    "\n",
    "langevin_temperature = 300  # K\n",
    "langevin_gamma = 0.1\n",
    "timestep = 1  # fs\n",
    "\n",
    "integrator = Integrator(system, forces, timestep, gamma=langevin_gamma, T=langevin_temperature)\n",
    "wrapper = Wrapper(mol.numAtoms, mol.bonds if len(mol.bonds) else None)"
   ]
  },
  {
   "cell_type": "code",
   "execution_count": 6,
   "metadata": {},
   "outputs": [
    {
     "name": "stdout",
     "output_type": "stream",
     "text": [
      "Iter  Epot            fmax    \n",
      "   0    18.623908    47.097681\n",
      "   1    742.506645    930.048814\n",
      "   2    15.581048    30.797948\n",
      "   3    14.288228    19.221545\n",
      "   4    12.361484    13.097783\n",
      "   5    11.714102    35.064515\n",
      "   6    11.014398    13.932185\n",
      "   7    10.539819    10.034238\n",
      "   8    10.278650    7.252243\n",
      "   9    10.006041    11.000469\n",
      "  10    9.805500    12.476327\n",
      "  11    9.624334    6.099770\n",
      "  12    9.494328    3.868678\n",
      "  13    9.401134    3.453931\n",
      "  14    9.359479    8.285483\n",
      "  15    9.266424    2.640222\n",
      "  16    9.237603    2.628917\n",
      "  17    9.192625    2.343936\n",
      "  18    9.184314    4.700428\n",
      "  19    9.140040    2.537128\n",
      "  20    9.128266    1.391213\n",
      "  21    9.116088    1.307519\n",
      "  22    9.096715    1.802672\n",
      "  23    9.101178    7.084076\n",
      "  24    9.082276    3.440598\n",
      "  25    9.059691    1.205466\n",
      "  26    9.046657    1.183203\n",
      "  27    9.030496    1.425538\n",
      "  28    9.015735    2.880708\n",
      "  29    9.002313    1.476721\n",
      "  30    8.982564    2.092492\n",
      "  31    8.969266    2.705697\n",
      "  32    8.957081    2.021441\n",
      "  33    8.932460    2.591890\n",
      "  34    8.924811    3.289359\n",
      "  35    8.913124    1.147367\n",
      "  36    8.903756    0.833272\n",
      "  37    8.894438    1.371110\n",
      "  38    8.880760    1.406721\n",
      "  39    8.891771    2.400797\n",
      "  40    8.874741    1.009200\n",
      "  41    8.869308    0.617398\n",
      "  42    8.866158    0.659062\n",
      "  43    8.862377    0.887633\n",
      "  44    8.859797    0.794527\n",
      "  45    8.857440    0.461676\n"
     ]
    }
   ],
   "source": [
    "from paddlemd.minimizers import minimize_bfgs\n",
    "\n",
    "minimize_bfgs(system, forces, steps=500)  # Minimize the system steps=500"
   ]
  },
  {
   "cell_type": "markdown",
   "metadata": {},
   "source": [
    "Create a CSV file logger for the simulation which keeps track of the energies and temperature."
   ]
  },
  {
   "cell_type": "code",
   "execution_count": 7,
   "metadata": {},
   "outputs": [
    {
     "name": "stdout",
     "output_type": "stream",
     "text": [
      "Writing logs to  logs/monitor.csv\n"
     ]
    }
   ],
   "source": [
    "from paddlemd.utils import LogWriter\n",
    "\n",
    "logger = LogWriter(path=\"logs/\", keys=('iter','ns','epot','ekin','etot','T'), name='monitor.csv')"
   ]
  },
  {
   "cell_type": "markdown",
   "metadata": {},
   "source": [
    "Now we can finally perform the full dynamics"
   ]
  },
  {
   "cell_type": "code",
   "execution_count": 8,
   "metadata": {},
   "outputs": [
    {
     "name": "stderr",
     "output_type": "stream",
     "text": [
      "100%|██████████| 100/100 [02:54<00:00,  1.75s/it]\n"
     ]
    }
   ],
   "source": [
    "from tqdm import tqdm \n",
    "import numpy as np\n",
    "\n",
    "FS2NS = 1E-6 # Femtosecond to nanosecond conversion\n",
    "\n",
    "steps = 1000 # 1000\n",
    "output_period = 10\n",
    "save_period = 100\n",
    "traj = []\n",
    "\n",
    "trajectoryout = \"mytrajectory.npy\"\n",
    "\n",
    "iterator = tqdm(range(1, int(steps / output_period) + 1))\n",
    "# print(f\"iterator={iterator}\")\n",
    "Epot = forces.compute(system.pos, system.box, system.forces)\n",
    "for i in iterator:\n",
    "    Ekin, Epot, T = integrator.step(niter=output_period)\n",
    "    wrapper.wrap(system.pos, system.box)\n",
    "#     currpos = system.pos.detach().cpu().numpy().copy()\n",
    "#     currpos = system.pos.detach()\n",
    "    currpos = system.pos\n",
    "#     print(currpos.shape)\n",
    "    traj.append(currpos)\n",
    "#     print(len(traj) )\n",
    "#     print(f\"iterator={iterator}\")\n",
    "    \n",
    "    if (i*output_period) % save_period  == 0:\n",
    "        np.save(trajectoryout, np.stack(traj, axis=2))\n",
    "\n",
    "    logger.write_row({'iter':i*output_period,'ns':FS2NS*i*output_period*timestep,'epot':Epot,'ekin':Ekin,'etot':Epot+Ekin,'T':T})"
   ]
  },
  {
   "cell_type": "code",
   "execution_count": 9,
   "metadata": {},
   "outputs": [
    {
     "data": {
      "text/plain": [
       "Tensor(shape=[2], dtype=int64, place=Place(gpu:0), stop_gradient=True,\n",
       "       [2, 3])"
      ]
     },
     "execution_count": 9,
     "metadata": {},
     "output_type": "execute_result"
    }
   ],
   "source": [
    "paddle.to_tensor([2,3])"
   ]
  },
  {
   "cell_type": "code",
   "execution_count": 10,
   "metadata": {},
   "outputs": [
    {
     "data": {
      "text/plain": [
       "([1, 688, 3], [1, 3, 3])"
      ]
     },
     "execution_count": 10,
     "metadata": {},
     "output_type": "execute_result"
    }
   ],
   "source": [
    "system.pos.shape, system.box.shape"
   ]
  },
  {
   "cell_type": "code",
   "execution_count": 11,
   "metadata": {},
   "outputs": [],
   "source": [
    "wrapidx = paddle.to_tensor([0 , 1 , 2 , 3 , 4 , 5 , 6 , 7 , 8 , 9 , 10, 11, 12, 13, 14, 15, 16, 17,\n",
    "        18, 19, 20, 21])"
   ]
  },
  {
   "cell_type": "code",
   "execution_count": 12,
   "metadata": {},
   "outputs": [
    {
     "name": "stdout",
     "output_type": "stream",
     "text": [
      "[1, 22, 3]\n",
      "Tensor(shape=[1, 3], dtype=float32, place=Place(gpu:0), stop_gradient=True,\n",
      "       [[256.92028809, 256.57214355, 253.62548828]])\n"
     ]
    }
   ],
   "source": [
    "pos = system.pos\n",
    "# import torch\n",
    "# torchpos = torch.Tensor(pos.numpy())\n",
    "# torchidx = torch.Tensor([0 , 1 , 2 , 3 , 4 , 5 , 6 , 7 , 8 , 9 , 10, 11, 12, 13, 14, 15, 16, \\\n",
    "#                          18, 19, 20, 21]).int32()\n",
    "# torchtmp = torchpos[:, torchidx]\n",
    "# tmp = pos[:, wrapidx]\n",
    "tmp = paddle.gather(pos, wrapidx, axis=1)\n",
    "print(tmp.shape)\n",
    "tmp1 = paddle.sum(tmp, axis=1)\n",
    "print(tmp1)\n",
    "# com = paddle.sum(pos[:, wrapidx], axis=1) / len(wrapidx)"
   ]
  }
 ],
 "metadata": {
  "kernelspec": {
   "display_name": "Python 3",
   "language": "python",
   "name": "python3"
  },
  "language_info": {
   "codemirror_mode": {
    "name": "ipython",
    "version": 3
   },
   "file_extension": ".py",
   "mimetype": "text/x-python",
   "name": "python",
   "nbconvert_exporter": "python",
   "pygments_lexer": "ipython3",
   "version": "3.6.9"
  }
 },
 "nbformat": 4,
 "nbformat_minor": 4
}
